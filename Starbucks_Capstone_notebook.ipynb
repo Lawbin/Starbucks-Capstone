{
 "cells": [
  {
   "cell_type": "markdown",
   "metadata": {},
   "source": [
    "# Starbucks Capstone Challenge\n",
    "\n",
    "### Introduction\n",
    "\n",
    "This data set contains simulated data that mimics customer behavior on the Starbucks rewards mobile app. Once every few days, Starbucks sends out an offer to users of the mobile app. An offer can be merely an advertisement for a drink or an actual offer such as a discount or BOGO (buy one get one free). Some users might not receive any offer during certain weeks. \n",
    "\n",
    "Not all users receive the same offer, and that is the challenge to solve with this data set.\n",
    "\n",
    "Your task is to combine transaction, demographic and offer data to determine which demographic groups respond best to which offer type. This data set is a simplified version of the real Starbucks app because the underlying simulator only has one product whereas Starbucks actually sells dozens of products.\n",
    "\n",
    "Every offer has a validity period before the offer expires. As an example, a BOGO offer might be valid for only 5 days. You'll see in the data set that informational offers have a validity period even though these ads are merely providing information about a product; for example, if an informational offer has 7 days of validity, you can assume the customer is feeling the influence of the offer for 7 days after receiving the advertisement.\n",
    "\n",
    "You'll be given transactional data showing user purchases made on the app including the timestamp of purchase and the amount of money spent on a purchase. This transactional data also has a record for each offer that a user receives as well as a record for when a user actually views the offer. There are also records for when a user completes an offer. \n",
    "\n",
    "Keep in mind as well that someone using the app might make a purchase through the app without having received an offer or seen an offer.\n",
    "\n",
    "### Example\n",
    "\n",
    "To give an example, a user could receive a discount offer buy 10 dollars get 2 off on Monday. The offer is valid for 10 days from receipt. If the customer accumulates at least 10 dollars in purchases during the validity period, the customer completes the offer.\n",
    "\n",
    "However, there are a few things to watch out for in this data set. Customers do not opt into the offers that they receive; in other words, a user can receive an offer, never actually view the offer, and still complete the offer. For example, a user might receive the \"buy 10 dollars get 2 dollars off offer\", but the user never opens the offer during the 10 day validity period. The customer spends 15 dollars during those ten days. There will be an offer completion record in the data set; however, the customer was not influenced by the offer because the customer never viewed the offer.\n",
    "\n",
    "### Cleaning\n",
    "\n",
    "This makes data cleaning especially important and tricky.\n",
    "\n",
    "You'll also want to take into account that some demographic groups will make purchases even if they don't receive an offer. From a business perspective, if a customer is going to make a 10 dollar purchase without an offer anyway, you wouldn't want to send a buy 10 dollars get 2 dollars off offer. You'll want to try to assess what a certain demographic group will buy when not receiving any offers.\n",
    "\n",
    "### Final Advice\n",
    "\n",
    "Because this is a capstone project, you are free to analyze the data any way you see fit. For example, you could build a machine learning model that predicts how much someone will spend based on demographics and offer type. Or you could build a model that predicts whether or not someone will respond to an offer. Or, you don't need to build a machine learning model at all. You could develop a set of heuristics that determine what offer you should send to each customer (i.e., 75 percent of women customers who were 35 years old responded to offer A vs 40 percent from the same demographic to offer B, so send offer A)."
   ]
  },
  {
   "cell_type": "markdown",
   "metadata": {},
   "source": [
    "## Problem Statement\n",
    "\n",
    "Starbucks has about 32,660 stores across the globe. Within a month, 37.8 million Americans visited a Starbucks. With this many customers, there are a lot of data that Starbucks can use to promote their brand. By analyzing their customer behavior they can make decisions based on target audiences. Using customer, offer and transactional data Starbucks would like to gain insights and know the effectiveness of offers.\n",
    "\n",
    "The objective is to build a machine learning model that predicts whether or not a customer will respond to an offer."
   ]
  },
  {
   "cell_type": "markdown",
   "metadata": {},
   "source": [
    "# Data Sets\n",
    "\n",
    "The data is contained in three files:\n",
    "\n",
    "* portfolio.json - containing offer ids and meta data about each offer (duration, type, etc.)\n",
    "* profile.json - demographic data for each customer\n",
    "* transcript.json - records for transactions, offers received, offers viewed, and offers completed\n",
    "\n",
    "Here is the schema and explanation of each variable in the files:\n",
    "\n",
    "**portfolio.json**\n",
    "* id (string) - offer id\n",
    "* offer_type (string) - type of offer ie BOGO, discount, informational\n",
    "* difficulty (int) - minimum required spend to complete an offer\n",
    "* reward (int) - reward given for completing an offer\n",
    "* duration (int) - time for offer to be open, in days\n",
    "* channels (list of strings)\n",
    "\n",
    "**profile.json**\n",
    "* age (int) - age of the customer \n",
    "* became_member_on (int) - date when customer created an app account\n",
    "* gender (str) - gender of the customer (note some entries contain 'O' for other rather than M or F)\n",
    "* id (str) - customer id\n",
    "* income (float) - customer's income\n",
    "\n",
    "**transcript.json**\n",
    "* event (str) - record description (ie transaction, offer received, offer viewed, etc.)\n",
    "* person (str) - customer id\n",
    "* time (int) - time in hours since start of test. The data begins at time t=0\n",
    "* value - (dict of strings) - either an offer id or transaction amount depending on the record"
   ]
  },
  {
   "cell_type": "markdown",
   "metadata": {},
   "source": [
    "### Table of Contents\n",
    "\n",
    "1. [Exploratory Data Analysis](#eda)\n",
    "    1. [Portfolio](#portfolio)\n",
    "    2. [Profile](#profile)\n",
    "    3. [Transcript](#transcript)\n",
    "2. [Preprocessing](#preprocess)\n",
    "    1. [Clean and Merge Data](#clean-merge)\n",
    "    2. [Feature Scaling](#scaling)\n",
    "    3. [Split Train & Test](#split-train-test)\n",
    "3. [Modeling](#modeling)\n",
    "    1. [Tuning Model](#tuning)\n",
    "    2. [Feature Importance](#feat-imp)\n",
    "4. [Reflection](#reflection)\n",
    "5. [Improvements](#improve)"
   ]
  },
  {
   "cell_type": "code",
   "execution_count": 1,
   "metadata": {},
   "outputs": [],
   "source": [
    "# Import libraries\n",
    "import pandas as pd\n",
    "import numpy as np\n",
    "import math\n",
    "import json\n",
    "import matplotlib.pyplot as plt\n",
    "import seaborn as sns\n",
    "from datetime import datetime\n",
    "import time\n",
    "\n",
    "from sklearn.preprocessing import LabelEncoder, MinMaxScaler\n",
    "from sklearn.model_selection import train_test_split\n",
    "from sklearn.model_selection import KFold, StratifiedKFold\n",
    "from sklearn.model_selection import cross_val_score\n",
    "\n",
    "from sklearn.linear_model import LogisticRegression\n",
    "from sklearn.ensemble import RandomForestClassifier, AdaBoostClassifier\n",
    "from sklearn.neighbors import KNeighborsClassifier\n",
    "from sklearn.model_selection import GridSearchCV\n",
    "\n",
    "from sklearn.metrics import f1_score, fbeta_score, precision_score, recall_score, accuracy_score\n",
    "from sklearn.metrics import classification_report, confusion_matrix\n",
    "\n",
    "% matplotlib inline"
   ]
  },
  {
   "cell_type": "code",
   "execution_count": 2,
   "metadata": {},
   "outputs": [],
   "source": [
    "# read in the json files\n",
    "portfolio = pd.read_json('data/portfolio.json', orient='records', lines=True)\n",
    "profile = pd.read_json('data/profile.json', orient='records', lines=True)\n",
    "transcript = pd.read_json('data/transcript.json', orient='records', lines=True)"
   ]
  },
  {
   "cell_type": "markdown",
   "metadata": {},
   "source": [
    "# 1. EDA <a id='eda'></a>"
   ]
  },
  {
   "cell_type": "markdown",
   "metadata": {},
   "source": [
    "### A. Portfolio <a href='portfolio'></a>"
   ]
  },
  {
   "cell_type": "markdown",
   "metadata": {},
   "source": [
    "**portfolio.json**\n",
    "* id (string) - offer id\n",
    "* offer_type (string) - type of offer ie BOGO, discount, informational\n",
    "* difficulty (int) - minimum required spend to complete an offer\n",
    "* reward (int) - reward given for completing an offer\n",
    "* duration (int) - time for offer to be open, in days\n",
    "* channels (list of strings)"
   ]
  },
  {
   "cell_type": "code",
   "execution_count": 3,
   "metadata": {},
   "outputs": [
    {
     "data": {
      "text/html": [
       "<div>\n",
       "<style scoped>\n",
       "    .dataframe tbody tr th:only-of-type {\n",
       "        vertical-align: middle;\n",
       "    }\n",
       "\n",
       "    .dataframe tbody tr th {\n",
       "        vertical-align: top;\n",
       "    }\n",
       "\n",
       "    .dataframe thead th {\n",
       "        text-align: right;\n",
       "    }\n",
       "</style>\n",
       "<table border=\"1\" class=\"dataframe\">\n",
       "  <thead>\n",
       "    <tr style=\"text-align: right;\">\n",
       "      <th></th>\n",
       "      <th>channels</th>\n",
       "      <th>difficulty</th>\n",
       "      <th>duration</th>\n",
       "      <th>id</th>\n",
       "      <th>offer_type</th>\n",
       "      <th>reward</th>\n",
       "    </tr>\n",
       "  </thead>\n",
       "  <tbody>\n",
       "    <tr>\n",
       "      <th>0</th>\n",
       "      <td>[email, mobile, social]</td>\n",
       "      <td>10</td>\n",
       "      <td>7</td>\n",
       "      <td>ae264e3637204a6fb9bb56bc8210ddfd</td>\n",
       "      <td>bogo</td>\n",
       "      <td>10</td>\n",
       "    </tr>\n",
       "    <tr>\n",
       "      <th>1</th>\n",
       "      <td>[web, email, mobile, social]</td>\n",
       "      <td>10</td>\n",
       "      <td>5</td>\n",
       "      <td>4d5c57ea9a6940dd891ad53e9dbe8da0</td>\n",
       "      <td>bogo</td>\n",
       "      <td>10</td>\n",
       "    </tr>\n",
       "    <tr>\n",
       "      <th>2</th>\n",
       "      <td>[web, email, mobile]</td>\n",
       "      <td>0</td>\n",
       "      <td>4</td>\n",
       "      <td>3f207df678b143eea3cee63160fa8bed</td>\n",
       "      <td>informational</td>\n",
       "      <td>0</td>\n",
       "    </tr>\n",
       "    <tr>\n",
       "      <th>3</th>\n",
       "      <td>[web, email, mobile]</td>\n",
       "      <td>5</td>\n",
       "      <td>7</td>\n",
       "      <td>9b98b8c7a33c4b65b9aebfe6a799e6d9</td>\n",
       "      <td>bogo</td>\n",
       "      <td>5</td>\n",
       "    </tr>\n",
       "    <tr>\n",
       "      <th>4</th>\n",
       "      <td>[web, email]</td>\n",
       "      <td>20</td>\n",
       "      <td>10</td>\n",
       "      <td>0b1e1539f2cc45b7b9fa7c272da2e1d7</td>\n",
       "      <td>discount</td>\n",
       "      <td>5</td>\n",
       "    </tr>\n",
       "  </tbody>\n",
       "</table>\n",
       "</div>"
      ],
      "text/plain": [
       "                       channels  difficulty  duration  \\\n",
       "0       [email, mobile, social]          10         7   \n",
       "1  [web, email, mobile, social]          10         5   \n",
       "2          [web, email, mobile]           0         4   \n",
       "3          [web, email, mobile]           5         7   \n",
       "4                  [web, email]          20        10   \n",
       "\n",
       "                                 id     offer_type  reward  \n",
       "0  ae264e3637204a6fb9bb56bc8210ddfd           bogo      10  \n",
       "1  4d5c57ea9a6940dd891ad53e9dbe8da0           bogo      10  \n",
       "2  3f207df678b143eea3cee63160fa8bed  informational       0  \n",
       "3  9b98b8c7a33c4b65b9aebfe6a799e6d9           bogo       5  \n",
       "4  0b1e1539f2cc45b7b9fa7c272da2e1d7       discount       5  "
      ]
     },
     "execution_count": 3,
     "metadata": {},
     "output_type": "execute_result"
    }
   ],
   "source": [
    "portfolio.head()"
   ]
  },
  {
   "cell_type": "code",
   "execution_count": 4,
   "metadata": {},
   "outputs": [
    {
     "name": "stdout",
     "output_type": "stream",
     "text": [
      "<class 'pandas.core.frame.DataFrame'>\n",
      "RangeIndex: 10 entries, 0 to 9\n",
      "Data columns (total 6 columns):\n",
      "channels      10 non-null object\n",
      "difficulty    10 non-null int64\n",
      "duration      10 non-null int64\n",
      "id            10 non-null object\n",
      "offer_type    10 non-null object\n",
      "reward        10 non-null int64\n",
      "dtypes: int64(3), object(3)\n",
      "memory usage: 560.0+ bytes\n"
     ]
    }
   ],
   "source": [
    "portfolio.info()"
   ]
  },
  {
   "cell_type": "code",
   "execution_count": 5,
   "metadata": {},
   "outputs": [
    {
     "data": {
      "text/plain": [
       "channels      0\n",
       "difficulty    0\n",
       "duration      0\n",
       "id            0\n",
       "offer_type    0\n",
       "reward        0\n",
       "dtype: int64"
      ]
     },
     "execution_count": 5,
     "metadata": {},
     "output_type": "execute_result"
    }
   ],
   "source": [
    "# Check for missing values\n",
    "portfolio.isnull().sum()"
   ]
  },
  {
   "cell_type": "markdown",
   "metadata": {},
   "source": [
    "**No missing values. Great!**"
   ]
  },
  {
   "cell_type": "code",
   "execution_count": 6,
   "metadata": {},
   "outputs": [
    {
     "data": {
      "text/plain": [
       "(10, 6)"
      ]
     },
     "execution_count": 6,
     "metadata": {},
     "output_type": "execute_result"
    }
   ],
   "source": [
    "portfolio.shape"
   ]
  },
  {
   "cell_type": "code",
   "execution_count": 7,
   "metadata": {},
   "outputs": [],
   "source": [
    "# Rename id column to offer_id (linked to transcript)\n",
    "portfolio.rename(columns = {'id': 'offer_id'}, inplace = True)\n",
    "\n",
    "# Rename duration to offer_duration\n",
    "portfolio.rename(columns = {'duration': 'offer_duration'}, inplace = True)"
   ]
  },
  {
   "cell_type": "code",
   "execution_count": 8,
   "metadata": {},
   "outputs": [
    {
     "data": {
      "text/plain": [
       "bogo             4\n",
       "discount         4\n",
       "informational    2\n",
       "Name: offer_type, dtype: int64"
      ]
     },
     "execution_count": 8,
     "metadata": {},
     "output_type": "execute_result"
    }
   ],
   "source": [
    "portfolio['offer_type'].value_counts()"
   ]
  },
  {
   "cell_type": "markdown",
   "metadata": {},
   "source": [
    "**Three types of Starbucks offers: 4 BOGO, 2 Informational and 4 Discount**"
   ]
  },
  {
   "cell_type": "code",
   "execution_count": 9,
   "metadata": {},
   "outputs": [
    {
     "data": {
      "text/plain": [
       "7     4\n",
       "10    2\n",
       "5     2\n",
       "4     1\n",
       "3     1\n",
       "Name: offer_duration, dtype: int64"
      ]
     },
     "execution_count": 9,
     "metadata": {},
     "output_type": "execute_result"
    }
   ],
   "source": [
    "portfolio['offer_duration'].value_counts()"
   ]
  },
  {
   "cell_type": "markdown",
   "metadata": {},
   "source": [
    "### B. Profile <a id='profile'></a>"
   ]
  },
  {
   "cell_type": "markdown",
   "metadata": {},
   "source": [
    "**profile.json**\n",
    "* age (int) - age of the customer \n",
    "* became_member_on (int) - date when customer created an app account\n",
    "* gender (str) - gender of the customer (note some entries contain 'O' for other rather than M or F)\n",
    "* id (str) - customer id\n",
    "* income (float) - customer's income"
   ]
  },
  {
   "cell_type": "code",
   "execution_count": 10,
   "metadata": {},
   "outputs": [
    {
     "data": {
      "text/html": [
       "<div>\n",
       "<style scoped>\n",
       "    .dataframe tbody tr th:only-of-type {\n",
       "        vertical-align: middle;\n",
       "    }\n",
       "\n",
       "    .dataframe tbody tr th {\n",
       "        vertical-align: top;\n",
       "    }\n",
       "\n",
       "    .dataframe thead th {\n",
       "        text-align: right;\n",
       "    }\n",
       "</style>\n",
       "<table border=\"1\" class=\"dataframe\">\n",
       "  <thead>\n",
       "    <tr style=\"text-align: right;\">\n",
       "      <th></th>\n",
       "      <th>age</th>\n",
       "      <th>became_member_on</th>\n",
       "      <th>gender</th>\n",
       "      <th>id</th>\n",
       "      <th>income</th>\n",
       "    </tr>\n",
       "  </thead>\n",
       "  <tbody>\n",
       "    <tr>\n",
       "      <th>0</th>\n",
       "      <td>118</td>\n",
       "      <td>20170212</td>\n",
       "      <td>None</td>\n",
       "      <td>68be06ca386d4c31939f3a4f0e3dd783</td>\n",
       "      <td>NaN</td>\n",
       "    </tr>\n",
       "    <tr>\n",
       "      <th>1</th>\n",
       "      <td>55</td>\n",
       "      <td>20170715</td>\n",
       "      <td>F</td>\n",
       "      <td>0610b486422d4921ae7d2bf64640c50b</td>\n",
       "      <td>112000.0</td>\n",
       "    </tr>\n",
       "    <tr>\n",
       "      <th>2</th>\n",
       "      <td>118</td>\n",
       "      <td>20180712</td>\n",
       "      <td>None</td>\n",
       "      <td>38fe809add3b4fcf9315a9694bb96ff5</td>\n",
       "      <td>NaN</td>\n",
       "    </tr>\n",
       "    <tr>\n",
       "      <th>3</th>\n",
       "      <td>75</td>\n",
       "      <td>20170509</td>\n",
       "      <td>F</td>\n",
       "      <td>78afa995795e4d85b5d9ceeca43f5fef</td>\n",
       "      <td>100000.0</td>\n",
       "    </tr>\n",
       "    <tr>\n",
       "      <th>4</th>\n",
       "      <td>118</td>\n",
       "      <td>20170804</td>\n",
       "      <td>None</td>\n",
       "      <td>a03223e636434f42ac4c3df47e8bac43</td>\n",
       "      <td>NaN</td>\n",
       "    </tr>\n",
       "  </tbody>\n",
       "</table>\n",
       "</div>"
      ],
      "text/plain": [
       "   age  became_member_on gender                                id    income\n",
       "0  118          20170212   None  68be06ca386d4c31939f3a4f0e3dd783       NaN\n",
       "1   55          20170715      F  0610b486422d4921ae7d2bf64640c50b  112000.0\n",
       "2  118          20180712   None  38fe809add3b4fcf9315a9694bb96ff5       NaN\n",
       "3   75          20170509      F  78afa995795e4d85b5d9ceeca43f5fef  100000.0\n",
       "4  118          20170804   None  a03223e636434f42ac4c3df47e8bac43       NaN"
      ]
     },
     "execution_count": 10,
     "metadata": {},
     "output_type": "execute_result"
    }
   ],
   "source": [
    "profile.head()"
   ]
  },
  {
   "cell_type": "code",
   "execution_count": 11,
   "metadata": {},
   "outputs": [
    {
     "name": "stdout",
     "output_type": "stream",
     "text": [
      "<class 'pandas.core.frame.DataFrame'>\n",
      "RangeIndex: 17000 entries, 0 to 16999\n",
      "Data columns (total 5 columns):\n",
      "age                 17000 non-null int64\n",
      "became_member_on    17000 non-null int64\n",
      "gender              14825 non-null object\n",
      "id                  17000 non-null object\n",
      "income              14825 non-null float64\n",
      "dtypes: float64(1), int64(2), object(2)\n",
      "memory usage: 664.1+ KB\n"
     ]
    }
   ],
   "source": [
    "profile.info()"
   ]
  },
  {
   "cell_type": "code",
   "execution_count": 12,
   "metadata": {},
   "outputs": [
    {
     "data": {
      "text/plain": [
       "age                   int64\n",
       "became_member_on      int64\n",
       "gender               object\n",
       "id                   object\n",
       "income              float64\n",
       "dtype: object"
      ]
     },
     "execution_count": 12,
     "metadata": {},
     "output_type": "execute_result"
    }
   ],
   "source": [
    "profile.dtypes"
   ]
  },
  {
   "cell_type": "code",
   "execution_count": 13,
   "metadata": {},
   "outputs": [
    {
     "data": {
      "text/plain": [
       "age                    0\n",
       "became_member_on       0\n",
       "gender              2175\n",
       "id                     0\n",
       "income              2175\n",
       "dtype: int64"
      ]
     },
     "execution_count": 13,
     "metadata": {},
     "output_type": "execute_result"
    }
   ],
   "source": [
    "profile.isnull().sum()"
   ]
  },
  {
   "cell_type": "code",
   "execution_count": 14,
   "metadata": {},
   "outputs": [
    {
     "data": {
      "text/plain": [
       "(17000, 5)"
      ]
     },
     "execution_count": 14,
     "metadata": {},
     "output_type": "execute_result"
    }
   ],
   "source": [
    "profile.shape"
   ]
  },
  {
   "cell_type": "code",
   "execution_count": 15,
   "metadata": {},
   "outputs": [
    {
     "name": "stdout",
     "output_type": "stream",
     "text": [
      "There are 17000 unique ids\n"
     ]
    }
   ],
   "source": [
    "print('There are {} unique ids'.format(profile['id'].nunique()))"
   ]
  },
  {
   "cell_type": "markdown",
   "metadata": {},
   "source": [
    "**Since the number of rows and number of ids are the same, there are no duplicates.**"
   ]
  },
  {
   "cell_type": "code",
   "execution_count": 16,
   "metadata": {},
   "outputs": [],
   "source": [
    "# Rename id to customer_id\n",
    "profile.rename(columns = {'id': 'customer_id'}, inplace = True)"
   ]
  },
  {
   "cell_type": "code",
   "execution_count": 17,
   "metadata": {},
   "outputs": [
    {
     "data": {
      "text/plain": [
       "M    8484\n",
       "F    6129\n",
       "O     212\n",
       "Name: gender, dtype: int64"
      ]
     },
     "execution_count": 17,
     "metadata": {},
     "output_type": "execute_result"
    }
   ],
   "source": [
    "profile['gender'].value_counts()"
   ]
  },
  {
   "cell_type": "code",
   "execution_count": 18,
   "metadata": {},
   "outputs": [
    {
     "data": {
      "text/plain": [
       "118    2175\n",
       "58      408\n",
       "53      372\n",
       "51      363\n",
       "54      359\n",
       "59      359\n",
       "57      353\n",
       "52      351\n",
       "55      350\n",
       "56      342\n",
       "63      338\n",
       "60      333\n",
       "49      321\n",
       "62      318\n",
       "67      317\n",
       "64      311\n",
       "61      309\n",
       "48      288\n",
       "50      284\n",
       "66      284\n",
       "65      280\n",
       "68      259\n",
       "70      252\n",
       "69      242\n",
       "47      232\n",
       "45      231\n",
       "71      230\n",
       "42      227\n",
       "43      215\n",
       "46      212\n",
       "       ... \n",
       "22      131\n",
       "30      131\n",
       "29      129\n",
       "23      126\n",
       "81      118\n",
       "35      118\n",
       "79      117\n",
       "80      116\n",
       "31      113\n",
       "82      105\n",
       "83      102\n",
       "84       83\n",
       "18       70\n",
       "85       70\n",
       "87       66\n",
       "88       64\n",
       "86       54\n",
       "89       53\n",
       "90       52\n",
       "91       47\n",
       "92       40\n",
       "94       33\n",
       "93       29\n",
       "95       22\n",
       "97       13\n",
       "100      12\n",
       "96        8\n",
       "98        5\n",
       "99        5\n",
       "101       5\n",
       "Name: age, Length: 85, dtype: int64"
      ]
     },
     "execution_count": 18,
     "metadata": {},
     "output_type": "execute_result"
    }
   ],
   "source": [
    "profile['age'].value_counts()"
   ]
  },
  {
   "cell_type": "code",
   "execution_count": 19,
   "metadata": {},
   "outputs": [
    {
     "data": {
      "text/html": [
       "<div>\n",
       "<style scoped>\n",
       "    .dataframe tbody tr th:only-of-type {\n",
       "        vertical-align: middle;\n",
       "    }\n",
       "\n",
       "    .dataframe tbody tr th {\n",
       "        vertical-align: top;\n",
       "    }\n",
       "\n",
       "    .dataframe thead th {\n",
       "        text-align: right;\n",
       "    }\n",
       "</style>\n",
       "<table border=\"1\" class=\"dataframe\">\n",
       "  <thead>\n",
       "    <tr style=\"text-align: right;\">\n",
       "      <th></th>\n",
       "      <th>age</th>\n",
       "      <th>became_member_on</th>\n",
       "      <th>gender</th>\n",
       "      <th>customer_id</th>\n",
       "      <th>income</th>\n",
       "    </tr>\n",
       "  </thead>\n",
       "  <tbody>\n",
       "    <tr>\n",
       "      <th>0</th>\n",
       "      <td>118</td>\n",
       "      <td>20170212</td>\n",
       "      <td>None</td>\n",
       "      <td>68be06ca386d4c31939f3a4f0e3dd783</td>\n",
       "      <td>NaN</td>\n",
       "    </tr>\n",
       "    <tr>\n",
       "      <th>2</th>\n",
       "      <td>118</td>\n",
       "      <td>20180712</td>\n",
       "      <td>None</td>\n",
       "      <td>38fe809add3b4fcf9315a9694bb96ff5</td>\n",
       "      <td>NaN</td>\n",
       "    </tr>\n",
       "    <tr>\n",
       "      <th>4</th>\n",
       "      <td>118</td>\n",
       "      <td>20170804</td>\n",
       "      <td>None</td>\n",
       "      <td>a03223e636434f42ac4c3df47e8bac43</td>\n",
       "      <td>NaN</td>\n",
       "    </tr>\n",
       "    <tr>\n",
       "      <th>6</th>\n",
       "      <td>118</td>\n",
       "      <td>20170925</td>\n",
       "      <td>None</td>\n",
       "      <td>8ec6ce2a7e7949b1bf142def7d0e0586</td>\n",
       "      <td>NaN</td>\n",
       "    </tr>\n",
       "    <tr>\n",
       "      <th>7</th>\n",
       "      <td>118</td>\n",
       "      <td>20171002</td>\n",
       "      <td>None</td>\n",
       "      <td>68617ca6246f4fbc85e91a2a49552598</td>\n",
       "      <td>NaN</td>\n",
       "    </tr>\n",
       "  </tbody>\n",
       "</table>\n",
       "</div>"
      ],
      "text/plain": [
       "   age  became_member_on gender                       customer_id  income\n",
       "0  118          20170212   None  68be06ca386d4c31939f3a4f0e3dd783     NaN\n",
       "2  118          20180712   None  38fe809add3b4fcf9315a9694bb96ff5     NaN\n",
       "4  118          20170804   None  a03223e636434f42ac4c3df47e8bac43     NaN\n",
       "6  118          20170925   None  8ec6ce2a7e7949b1bf142def7d0e0586     NaN\n",
       "7  118          20171002   None  68617ca6246f4fbc85e91a2a49552598     NaN"
      ]
     },
     "execution_count": 19,
     "metadata": {},
     "output_type": "execute_result"
    }
   ],
   "source": [
    "profile[profile['age'] == 118].head()"
   ]
  },
  {
   "cell_type": "code",
   "execution_count": 20,
   "metadata": {},
   "outputs": [
    {
     "data": {
      "text/plain": [
       "(array([ 0,  1,  2,  3,  4,  5,  6,  7,  8,  9, 10, 11, 12, 13, 14, 15, 16,\n",
       "        17, 18, 19, 20, 21, 22, 23, 24, 25, 26, 27, 28, 29, 30, 31, 32, 33,\n",
       "        34, 35, 36, 37, 38, 39, 40, 41, 42, 43, 44, 45, 46, 47, 48, 49, 50,\n",
       "        51, 52, 53, 54, 55, 56, 57, 58, 59, 60, 61, 62, 63, 64, 65, 66, 67,\n",
       "        68, 69, 70, 71, 72, 73, 74, 75, 76, 77, 78, 79, 80, 81, 82, 83, 84]),\n",
       " <a list of 85 Text xticklabel objects>)"
      ]
     },
     "execution_count": 20,
     "metadata": {},
     "output_type": "execute_result"
    },
    {
     "data": {
      "image/png": "[encoded data removed]",
      "text/plain": [
       "<matplotlib.figure.Figure at 0x7fe40b6232b0>"
      ]
     },
     "metadata": {
      "needs_background": "light"
     },
     "output_type": "display_data"
    }
   ],
   "source": [
    "plt.figure(figsize = (20,10))\n",
    "sns.countplot(profile['age'])\n",
    "plt.xticks(rotation = 90)"
   ]
  },
  {
   "cell_type": "markdown",
   "metadata": {},
   "source": [
    "**The number of profiles with an age of 118 is 2175, this matches the number of missing values. This means age of 118 is a dummy value. As these rows with age of 118 also have missing values for gender and income, it is justifiable to drop these rows.**"
   ]
  },
  {
   "cell_type": "code",
   "execution_count": 21,
   "metadata": {},
   "outputs": [],
   "source": [
    "# Extract customer_id with age of 118 for transcript dataframe\n",
    "id_118 = profile['customer_id'].loc[profile['age'] == 118].values\n",
    "id_118 = list(id_118)"
   ]
  },
  {
   "cell_type": "code",
   "execution_count": 22,
   "metadata": {},
   "outputs": [
    {
     "data": {
      "text/html": [
       "<div>\n",
       "<style scoped>\n",
       "    .dataframe tbody tr th:only-of-type {\n",
       "        vertical-align: middle;\n",
       "    }\n",
       "\n",
       "    .dataframe tbody tr th {\n",
       "        vertical-align: top;\n",
       "    }\n",
       "\n",
       "    .dataframe thead th {\n",
       "        text-align: right;\n",
       "    }\n",
       "</style>\n",
       "<table border=\"1\" class=\"dataframe\">\n",
       "  <thead>\n",
       "    <tr style=\"text-align: right;\">\n",
       "      <th></th>\n",
       "      <th>age</th>\n",
       "      <th>became_member_on</th>\n",
       "      <th>gender</th>\n",
       "      <th>customer_id</th>\n",
       "      <th>income</th>\n",
       "    </tr>\n",
       "  </thead>\n",
       "  <tbody>\n",
       "    <tr>\n",
       "      <th>1</th>\n",
       "      <td>55</td>\n",
       "      <td>2017-07-15</td>\n",
       "      <td>F</td>\n",
       "      <td>0610b486422d4921ae7d2bf64640c50b</td>\n",
       "      <td>112000.0</td>\n",
       "    </tr>\n",
       "    <tr>\n",
       "      <th>3</th>\n",
       "      <td>75</td>\n",
       "      <td>2017-05-09</td>\n",
       "      <td>F</td>\n",
       "      <td>78afa995795e4d85b5d9ceeca43f5fef</td>\n",
       "      <td>100000.0</td>\n",
       "    </tr>\n",
       "    <tr>\n",
       "      <th>5</th>\n",
       "      <td>68</td>\n",
       "      <td>2018-04-26</td>\n",
       "      <td>M</td>\n",
       "      <td>e2127556f4f64592b11af22de27a7932</td>\n",
       "      <td>70000.0</td>\n",
       "    </tr>\n",
       "    <tr>\n",
       "      <th>8</th>\n",
       "      <td>65</td>\n",
       "      <td>2018-02-09</td>\n",
       "      <td>M</td>\n",
       "      <td>389bc3fa690240e798340f5a15918d5c</td>\n",
       "      <td>53000.0</td>\n",
       "    </tr>\n",
       "    <tr>\n",
       "      <th>12</th>\n",
       "      <td>58</td>\n",
       "      <td>2017-11-11</td>\n",
       "      <td>M</td>\n",
       "      <td>2eeac8d8feae4a8cad5a6af0499a211d</td>\n",
       "      <td>51000.0</td>\n",
       "    </tr>\n",
       "  </tbody>\n",
       "</table>\n",
       "</div>"
      ],
      "text/plain": [
       "    age became_member_on gender                       customer_id    income\n",
       "1    55       2017-07-15      F  0610b486422d4921ae7d2bf64640c50b  112000.0\n",
       "3    75       2017-05-09      F  78afa995795e4d85b5d9ceeca43f5fef  100000.0\n",
       "5    68       2018-04-26      M  e2127556f4f64592b11af22de27a7932   70000.0\n",
       "8    65       2018-02-09      M  389bc3fa690240e798340f5a15918d5c   53000.0\n",
       "12   58       2017-11-11      M  2eeac8d8feae4a8cad5a6af0499a211d   51000.0"
      ]
     },
     "execution_count": 22,
     "metadata": {},
     "output_type": "execute_result"
    }
   ],
   "source": [
    "# Remove rows with missing values\n",
    "profile.drop(index = profile[profile['age'] == 118].index, inplace = True)\n",
    "\n",
    "# became_member_on is a date but data type is currently int, so change to datetime\n",
    "profile['became_member_on'] = pd.to_datetime(profile['became_member_on'], format = '%Y%m%d')\n",
    "\n",
    "profile.head()"
   ]
  },
  {
   "cell_type": "code",
   "execution_count": 23,
   "metadata": {},
   "outputs": [
    {
     "data": {
      "image/png": "[encoded data removed]",
      "text/plain": [
       "<matplotlib.figure.Figure at 0x7fe40b5195c0>"
      ]
     },
     "metadata": {
      "needs_background": "light"
     },
     "output_type": "display_data"
    }
   ],
   "source": [
    "# Plot Age Distribution after dropping rows with age of 118\n",
    "plt.figure(figsize = (18,9))\n",
    "sns.countplot(data = profile, x = profile['age'])\n",
    "plt.title('Age Distribution')\n",
    "plt.xticks(rotation = 90)\n",
    "plt.show()"
   ]
  },
  {
   "cell_type": "markdown",
   "metadata": {},
   "source": [
    "**Very uniform age distribution!**"
   ]
  },
  {
   "cell_type": "code",
   "execution_count": 24,
   "metadata": {},
   "outputs": [
    {
     "data": {
      "text/html": [
       "<div>\n",
       "<style scoped>\n",
       "    .dataframe tbody tr th:only-of-type {\n",
       "        vertical-align: middle;\n",
       "    }\n",
       "\n",
       "    .dataframe tbody tr th {\n",
       "        vertical-align: top;\n",
       "    }\n",
       "\n",
       "    .dataframe thead th {\n",
       "        text-align: right;\n",
       "    }\n",
       "</style>\n",
       "<table border=\"1\" class=\"dataframe\">\n",
       "  <thead>\n",
       "    <tr style=\"text-align: right;\">\n",
       "      <th></th>\n",
       "      <th>mean</th>\n",
       "      <th>median</th>\n",
       "    </tr>\n",
       "    <tr>\n",
       "      <th>gender</th>\n",
       "      <th></th>\n",
       "      <th></th>\n",
       "    </tr>\n",
       "  </thead>\n",
       "  <tbody>\n",
       "    <tr>\n",
       "      <th>F</th>\n",
       "      <td>71306.412139</td>\n",
       "      <td>71000.0</td>\n",
       "    </tr>\n",
       "    <tr>\n",
       "      <th>M</th>\n",
       "      <td>61194.601603</td>\n",
       "      <td>59000.0</td>\n",
       "    </tr>\n",
       "    <tr>\n",
       "      <th>O</th>\n",
       "      <td>63287.735849</td>\n",
       "      <td>62000.0</td>\n",
       "    </tr>\n",
       "  </tbody>\n",
       "</table>\n",
       "</div>"
      ],
      "text/plain": [
       "                mean   median\n",
       "gender                       \n",
       "F       71306.412139  71000.0\n",
       "M       61194.601603  59000.0\n",
       "O       63287.735849  62000.0"
      ]
     },
     "execution_count": 24,
     "metadata": {},
     "output_type": "execute_result"
    }
   ],
   "source": [
    "profile.groupby('gender')['income'].agg(['mean','median'])"
   ]
  },
  {
   "cell_type": "markdown",
   "metadata": {},
   "source": [
    "**Seems like from data collected, females tend to earn more.**"
   ]
  },
  {
   "cell_type": "code",
   "execution_count": 25,
   "metadata": {},
   "outputs": [],
   "source": [
    "def plot_income(df, gender):\n",
    "    '''\n",
    "    Plot income by gender\n",
    "    \n",
    "    Args:\n",
    "        df: DataFrame containing profile data with income\n",
    "        gender: String. Male/Female/Other\n",
    "        \n",
    "    Returns:\n",
    "        None\n",
    "    '''\n",
    "    df['income_K'] = df['income'].apply(lambda x: x / 1000)\n",
    "    \n",
    "    plt.figure(figsize = (12,6))\n",
    "    sns.distplot(df.loc[df['gender'] == gender[0], 'income_K'])\n",
    "    plt.title('Income Distribution for {}'.format(gender))\n",
    "    plt.xlabel('Income (Thousands)')"
   ]
  },
  {
   "cell_type": "code",
   "execution_count": 26,
   "metadata": {},
   "outputs": [
    {
     "data": {
      "image/png": "[encoded data removed]",
      "text/plain": [
       "<matplotlib.figure.Figure at 0x7fe40b4e3d68>"
      ]
     },
     "metadata": {
      "needs_background": "light"
     },
     "output_type": "display_data"
    }
   ],
   "source": [
    "plot_income(profile, 'Male')"
   ]
  },
  {
   "cell_type": "code",
   "execution_count": 27,
   "metadata": {},
   "outputs": [
    {
     "data": {
      "image/png": "[encoded data removed]",
      "text/plain": [
       "<matplotlib.figure.Figure at 0x7fe40b4e7fd0>"
      ]
     },
     "metadata": {
      "needs_background": "light"
     },
     "output_type": "display_data"
    }
   ],
   "source": [
    "plot_income(profile, 'Female')"
   ]
  },
  {
   "cell_type": "code",
   "execution_count": 28,
   "metadata": {},
   "outputs": [
    {
     "data": {
      "image/png": "[encoded data removed]",
      "text/plain": [
       "<matplotlib.figure.Figure at 0x7fe40b48c898>"
      ]
     },
     "metadata": {
      "needs_background": "light"
     },
     "output_type": "display_data"
    }
   ],
   "source": [
    "plot_income(profile, 'Other')"
   ]
  },
  {
   "cell_type": "markdown",
   "metadata": {},
   "source": [
    "**As shown above the distribution of income for Males and Females are similar.**"
   ]
  },
  {
   "cell_type": "code",
   "execution_count": 29,
   "metadata": {},
   "outputs": [
    {
     "data": {
      "image/png": "[encoded data removed]",
      "text/plain": [
       "<matplotlib.figure.Figure at 0x7fe40b33fd30>"
      ]
     },
     "metadata": {
      "needs_background": "light"
     },
     "output_type": "display_data"
    }
   ],
   "source": [
    "plt.figure(figsize = (12,6))\n",
    "sns.countplot(data = profile, x = profile['became_member_on'].dt.year)\n",
    "plt.xlabel('Year')\n",
    "plt.ylabel('Count')\n",
    "plt.title('Customers Per Year')\n",
    "plt.show()"
   ]
  },
  {
   "cell_type": "markdown",
   "metadata": {},
   "source": [
    "**The number of new customers per year seems to be increasing overtime. However, in 2018 there was a drop which may be because the data was released in 2018. According to the trend we can expect an overall increasing trend as time passes.**"
   ]
  },
  {
   "cell_type": "code",
   "execution_count": 30,
   "metadata": {},
   "outputs": [],
   "source": [
    "def profile_age(df):\n",
    "    '''\n",
    "    Rather than individual ages, categorize into age groups\n",
    "    \n",
    "    Args:\n",
    "        df: DataFrame with an age column\n",
    "        \n",
    "    Returns:\n",
    "        df: DataFrame with age groups and no individual ages\n",
    "    '''\n",
    "    #add Age_group column\n",
    "    df.loc[(df.age < 20) , 'age_group'] = 'Under 20'\n",
    "    df.loc[(df.age >= 20) & (df.age <= 29) , 'age_group'] = '20-29'\n",
    "    df.loc[(df.age >= 30) & (df.age <= 39) , 'age_group'] = '30-39'\n",
    "    df.loc[(df.age >= 40) & (df.age <= 49) , 'age_group'] = '40-49'\n",
    "    df.loc[(df.age >= 50) & (df.age <= 59) , 'age_group'] = '50-59'\n",
    "    df.loc[(df.age >= 61) , 'age_group'] = '60+'\n",
    "    df.drop('age', axis = 1, inplace = True)\n",
    "    \n",
    "    return df"
   ]
  },
  {
   "cell_type": "markdown",
   "metadata": {},
   "source": [
    "**We will bin customer age to prevent overfitting in the machine learning model.**"
   ]
  },
  {
   "cell_type": "code",
   "execution_count": 31,
   "metadata": {},
   "outputs": [],
   "source": [
    "profile_age = profile_age(profile)"
   ]
  },
  {
   "cell_type": "code",
   "execution_count": 32,
   "metadata": {},
   "outputs": [],
   "source": [
    "profile['member_duration'] = (datetime.today().date() - pd.to_datetime(profile['became_member_on'],\\\n",
    "                                                                     format='%Y%m%d').dt.date).dt.days\n",
    "profile.drop(columns = 'became_member_on', inplace = True)"
   ]
  },
  {
   "cell_type": "markdown",
   "metadata": {},
   "source": [
    "### C. Transcript <a id='transcript'></a>"
   ]
  },
  {
   "cell_type": "markdown",
   "metadata": {},
   "source": [
    "**transcript.json**\n",
    "* event (str) - record description (ie transaction, offer received, offer viewed, etc.)\n",
    "* person (str) - customer id\n",
    "* time (int) - time in hours since start of test. The data begins at time t=0\n",
    "* value - (dict of strings) - either an offer id or transaction amount depending on the record"
   ]
  },
  {
   "cell_type": "code",
   "execution_count": 33,
   "metadata": {},
   "outputs": [
    {
     "data": {
      "text/html": [
       "<div>\n",
       "<style scoped>\n",
       "    .dataframe tbody tr th:only-of-type {\n",
       "        vertical-align: middle;\n",
       "    }\n",
       "\n",
       "    .dataframe tbody tr th {\n",
       "        vertical-align: top;\n",
       "    }\n",
       "\n",
       "    .dataframe thead th {\n",
       "        text-align: right;\n",
       "    }\n",
       "</style>\n",
       "<table border=\"1\" class=\"dataframe\">\n",
       "  <thead>\n",
       "    <tr style=\"text-align: right;\">\n",
       "      <th></th>\n",
       "      <th>event</th>\n",
       "      <th>person</th>\n",
       "      <th>time</th>\n",
       "      <th>value</th>\n",
       "    </tr>\n",
       "  </thead>\n",
       "  <tbody>\n",
       "    <tr>\n",
       "      <th>0</th>\n",
       "      <td>offer received</td>\n",
       "      <td>78afa995795e4d85b5d9ceeca43f5fef</td>\n",
       "      <td>0</td>\n",
       "      <td>{'offer id': '9b98b8c7a33c4b65b9aebfe6a799e6d9'}</td>\n",
       "    </tr>\n",
       "    <tr>\n",
       "      <th>1</th>\n",
       "      <td>offer received</td>\n",
       "      <td>a03223e636434f42ac4c3df47e8bac43</td>\n",
       "      <td>0</td>\n",
       "      <td>{'offer id': '0b1e1539f2cc45b7b9fa7c272da2e1d7'}</td>\n",
       "    </tr>\n",
       "    <tr>\n",
       "      <th>2</th>\n",
       "      <td>offer received</td>\n",
       "      <td>e2127556f4f64592b11af22de27a7932</td>\n",
       "      <td>0</td>\n",
       "      <td>{'offer id': '2906b810c7d4411798c6938adc9daaa5'}</td>\n",
       "    </tr>\n",
       "    <tr>\n",
       "      <th>3</th>\n",
       "      <td>offer received</td>\n",
       "      <td>8ec6ce2a7e7949b1bf142def7d0e0586</td>\n",
       "      <td>0</td>\n",
       "      <td>{'offer id': 'fafdcd668e3743c1bb461111dcafc2a4'}</td>\n",
       "    </tr>\n",
       "    <tr>\n",
       "      <th>4</th>\n",
       "      <td>offer received</td>\n",
       "      <td>68617ca6246f4fbc85e91a2a49552598</td>\n",
       "      <td>0</td>\n",
       "      <td>{'offer id': '4d5c57ea9a6940dd891ad53e9dbe8da0'}</td>\n",
       "    </tr>\n",
       "  </tbody>\n",
       "</table>\n",
       "</div>"
      ],
      "text/plain": [
       "            event                            person  time  \\\n",
       "0  offer received  78afa995795e4d85b5d9ceeca43f5fef     0   \n",
       "1  offer received  a03223e636434f42ac4c3df47e8bac43     0   \n",
       "2  offer received  e2127556f4f64592b11af22de27a7932     0   \n",
       "3  offer received  8ec6ce2a7e7949b1bf142def7d0e0586     0   \n",
       "4  offer received  68617ca6246f4fbc85e91a2a49552598     0   \n",
       "\n",
       "                                              value  \n",
       "0  {'offer id': '9b98b8c7a33c4b65b9aebfe6a799e6d9'}  \n",
       "1  {'offer id': '0b1e1539f2cc45b7b9fa7c272da2e1d7'}  \n",
       "2  {'offer id': '2906b810c7d4411798c6938adc9daaa5'}  \n",
       "3  {'offer id': 'fafdcd668e3743c1bb461111dcafc2a4'}  \n",
       "4  {'offer id': '4d5c57ea9a6940dd891ad53e9dbe8da0'}  "
      ]
     },
     "execution_count": 33,
     "metadata": {},
     "output_type": "execute_result"
    }
   ],
   "source": [
    "transcript.head()"
   ]
  },
  {
   "cell_type": "code",
   "execution_count": 34,
   "metadata": {},
   "outputs": [
    {
     "name": "stdout",
     "output_type": "stream",
     "text": [
      "<class 'pandas.core.frame.DataFrame'>\n",
      "RangeIndex: 306534 entries, 0 to 306533\n",
      "Data columns (total 4 columns):\n",
      "event     306534 non-null object\n",
      "person    306534 non-null object\n",
      "time      306534 non-null int64\n",
      "value     306534 non-null object\n",
      "dtypes: int64(1), object(3)\n",
      "memory usage: 9.4+ MB\n"
     ]
    }
   ],
   "source": [
    "transcript.info()"
   ]
  },
  {
   "cell_type": "code",
   "execution_count": 35,
   "metadata": {},
   "outputs": [
    {
     "data": {
      "text/plain": [
       "event     object\n",
       "person    object\n",
       "time       int64\n",
       "value     object\n",
       "dtype: object"
      ]
     },
     "execution_count": 35,
     "metadata": {},
     "output_type": "execute_result"
    }
   ],
   "source": [
    "transcript.dtypes"
   ]
  },
  {
   "cell_type": "code",
   "execution_count": 36,
   "metadata": {},
   "outputs": [
    {
     "data": {
      "text/plain": [
       "(306534, 4)"
      ]
     },
     "execution_count": 36,
     "metadata": {},
     "output_type": "execute_result"
    }
   ],
   "source": [
    "transcript.shape"
   ]
  },
  {
   "cell_type": "code",
   "execution_count": 37,
   "metadata": {
    "scrolled": true
   },
   "outputs": [
    {
     "data": {
      "text/plain": [
       "event     0\n",
       "person    0\n",
       "time      0\n",
       "value     0\n",
       "dtype: int64"
      ]
     },
     "execution_count": 37,
     "metadata": {},
     "output_type": "execute_result"
    }
   ],
   "source": [
    "transcript.isnull().sum()"
   ]
  },
  {
   "cell_type": "markdown",
   "metadata": {},
   "source": [
    "**No missing values!**"
   ]
  },
  {
   "cell_type": "code",
   "execution_count": 38,
   "metadata": {},
   "outputs": [
    {
     "data": {
      "text/html": [
       "<div>\n",
       "<style scoped>\n",
       "    .dataframe tbody tr th:only-of-type {\n",
       "        vertical-align: middle;\n",
       "    }\n",
       "\n",
       "    .dataframe tbody tr th {\n",
       "        vertical-align: top;\n",
       "    }\n",
       "\n",
       "    .dataframe thead th {\n",
       "        text-align: right;\n",
       "    }\n",
       "</style>\n",
       "<table border=\"1\" class=\"dataframe\">\n",
       "  <thead>\n",
       "    <tr style=\"text-align: right;\">\n",
       "      <th></th>\n",
       "      <th>event</th>\n",
       "      <th>customer_id</th>\n",
       "      <th>time</th>\n",
       "      <th>value</th>\n",
       "    </tr>\n",
       "  </thead>\n",
       "  <tbody>\n",
       "    <tr>\n",
       "      <th>0</th>\n",
       "      <td>offer received</td>\n",
       "      <td>78afa995795e4d85b5d9ceeca43f5fef</td>\n",
       "      <td>0</td>\n",
       "      <td>{'offer id': '9b98b8c7a33c4b65b9aebfe6a799e6d9'}</td>\n",
       "    </tr>\n",
       "    <tr>\n",
       "      <th>1</th>\n",
       "      <td>offer received</td>\n",
       "      <td>a03223e636434f42ac4c3df47e8bac43</td>\n",
       "      <td>0</td>\n",
       "      <td>{'offer id': '0b1e1539f2cc45b7b9fa7c272da2e1d7'}</td>\n",
       "    </tr>\n",
       "    <tr>\n",
       "      <th>2</th>\n",
       "      <td>offer received</td>\n",
       "      <td>e2127556f4f64592b11af22de27a7932</td>\n",
       "      <td>0</td>\n",
       "      <td>{'offer id': '2906b810c7d4411798c6938adc9daaa5'}</td>\n",
       "    </tr>\n",
       "    <tr>\n",
       "      <th>3</th>\n",
       "      <td>offer received</td>\n",
       "      <td>8ec6ce2a7e7949b1bf142def7d0e0586</td>\n",
       "      <td>0</td>\n",
       "      <td>{'offer id': 'fafdcd668e3743c1bb461111dcafc2a4'}</td>\n",
       "    </tr>\n",
       "    <tr>\n",
       "      <th>4</th>\n",
       "      <td>offer received</td>\n",
       "      <td>68617ca6246f4fbc85e91a2a49552598</td>\n",
       "      <td>0</td>\n",
       "      <td>{'offer id': '4d5c57ea9a6940dd891ad53e9dbe8da0'}</td>\n",
       "    </tr>\n",
       "  </tbody>\n",
       "</table>\n",
       "</div>"
      ],
      "text/plain": [
       "            event                       customer_id  time  \\\n",
       "0  offer received  78afa995795e4d85b5d9ceeca43f5fef     0   \n",
       "1  offer received  a03223e636434f42ac4c3df47e8bac43     0   \n",
       "2  offer received  e2127556f4f64592b11af22de27a7932     0   \n",
       "3  offer received  8ec6ce2a7e7949b1bf142def7d0e0586     0   \n",
       "4  offer received  68617ca6246f4fbc85e91a2a49552598     0   \n",
       "\n",
       "                                              value  \n",
       "0  {'offer id': '9b98b8c7a33c4b65b9aebfe6a799e6d9'}  \n",
       "1  {'offer id': '0b1e1539f2cc45b7b9fa7c272da2e1d7'}  \n",
       "2  {'offer id': '2906b810c7d4411798c6938adc9daaa5'}  \n",
       "3  {'offer id': 'fafdcd668e3743c1bb461111dcafc2a4'}  \n",
       "4  {'offer id': '4d5c57ea9a6940dd891ad53e9dbe8da0'}  "
      ]
     },
     "execution_count": 38,
     "metadata": {},
     "output_type": "execute_result"
    }
   ],
   "source": [
    "# Rename person column to customer_id\n",
    "transcript.rename(columns = {'person': 'customer_id'}, inplace = True)\n",
    "transcript.head()"
   ]
  },
  {
   "cell_type": "code",
   "execution_count": 39,
   "metadata": {},
   "outputs": [
    {
     "data": {
      "text/plain": [
       "(272762, 4)"
      ]
     },
     "execution_count": 39,
     "metadata": {},
     "output_type": "execute_result"
    }
   ],
   "source": [
    "# Remove rows where customer_id matches the rows in the profile dataframe\n",
    "transcript = transcript[~transcript['customer_id'].isin(id_118)]\n",
    "transcript.shape"
   ]
  },
  {
   "cell_type": "code",
   "execution_count": 40,
   "metadata": {},
   "outputs": [
    {
     "name": "stdout",
     "output_type": "stream",
     "text": [
      "Number of unique IDs in profile: 14825\n",
      "Number of unique IDs in transcript: 14825\n"
     ]
    }
   ],
   "source": [
    "print('Number of unique IDs in profile: {}'.format(profile['customer_id'].nunique()))\n",
    "print('Number of unique IDs in transcript: {}'.format(transcript['customer_id'].nunique()))"
   ]
  },
  {
   "cell_type": "markdown",
   "metadata": {},
   "source": [
    "**All IDs in profile appear in transcript.**"
   ]
  },
  {
   "cell_type": "code",
   "execution_count": 41,
   "metadata": {},
   "outputs": [
    {
     "data": {
      "text/plain": [
       "transaction        45.445113\n",
       "offer received     24.380596\n",
       "offer viewed       18.279672\n",
       "offer completed    11.894619\n",
       "Name: event, dtype: float64"
      ]
     },
     "execution_count": 41,
     "metadata": {},
     "output_type": "execute_result"
    }
   ],
   "source": [
    "transcript['event'].value_counts(normalize = True) * 100"
   ]
  },
  {
   "cell_type": "code",
   "execution_count": 42,
   "metadata": {},
   "outputs": [
    {
     "name": "stdout",
     "output_type": "stream",
     "text": [
      "Percentage of events are transactions: 45.45%\n",
      "Percentage of events are offers: 54.55%\n"
     ]
    }
   ],
   "source": [
    "print('Percentage of events are transactions: {:0.2f}%'.format(transcript['event'].value_counts(normalize = True)[0] * 100))\n",
    "print('Percentage of events are offers: {:0.2f}%'.format(transcript['event'].value_counts(normalize = True)[1:].sum() * 100))"
   ]
  },
  {
   "cell_type": "markdown",
   "metadata": {},
   "source": [
    "**Almost a 50/50 split between offers and transactions.**"
   ]
  },
  {
   "cell_type": "markdown",
   "metadata": {},
   "source": [
    "## 2. Preprocessing <a id='preprocess'></a>"
   ]
  },
  {
   "cell_type": "markdown",
   "metadata": {},
   "source": [
    "### A. Clean and Merge Data <a id = \"clean-merge\"></a>"
   ]
  },
  {
   "cell_type": "markdown",
   "metadata": {},
   "source": [
    "**Now we want to separate offers and transaction information, but first we need to solve the value column. In order to do this, let's find out what are the key names.**"
   ]
  },
  {
   "cell_type": "code",
   "execution_count": 43,
   "metadata": {},
   "outputs": [],
   "source": [
    "# Separate transaction data and offer data\n",
    "offer_lst = ['offer received', 'offer viewed', 'offer completed']\n",
    "\n",
    "offer_events = transcript[transcript['event'].isin(offer_lst)]\n",
    "\n",
    "transaction_events = transcript[~transcript['event'].isin(offer_lst)]"
   ]
  },
  {
   "cell_type": "code",
   "execution_count": 44,
   "metadata": {},
   "outputs": [],
   "source": [
    "def clean_offers(x):\n",
    "    '''\n",
    "    Cleans offers_events value column so that instead of a dictionary it is a value.\n",
    "    Applied to a lambda function.\n",
    "    \n",
    "    Args:\n",
    "        x: Dictionary with offer id\n",
    "        \n",
    "    Returns:\n",
    "        None\n",
    "    '''\n",
    "    for key, value in x.items():\n",
    "        if key in ['offer id', 'offer_id']:\n",
    "            return str(value)\n",
    "        if key not in ['offer id', 'offer_id']:\n",
    "            print('Please separate data again!')"
   ]
  },
  {
   "cell_type": "code",
   "execution_count": 45,
   "metadata": {
    "scrolled": true
   },
   "outputs": [
    {
     "name": "stderr",
     "output_type": "stream",
     "text": [
      "/opt/conda/lib/python3.6/site-packages/ipykernel_launcher.py:1: SettingWithCopyWarning: \n",
      "A value is trying to be set on a copy of a slice from a DataFrame.\n",
      "Try using .loc[row_indexer,col_indexer] = value instead\n",
      "\n",
      "See the caveats in the documentation: http://pandas.pydata.org/pandas-docs/stable/indexing.html#indexing-view-versus-copy\n",
      "  \"\"\"Entry point for launching an IPython kernel.\n"
     ]
    },
    {
     "data": {
      "text/html": [
       "<div>\n",
       "<style scoped>\n",
       "    .dataframe tbody tr th:only-of-type {\n",
       "        vertical-align: middle;\n",
       "    }\n",
       "\n",
       "    .dataframe tbody tr th {\n",
       "        vertical-align: top;\n",
       "    }\n",
       "\n",
       "    .dataframe thead th {\n",
       "        text-align: right;\n",
       "    }\n",
       "</style>\n",
       "<table border=\"1\" class=\"dataframe\">\n",
       "  <thead>\n",
       "    <tr style=\"text-align: right;\">\n",
       "      <th></th>\n",
       "      <th>event</th>\n",
       "      <th>customer_id</th>\n",
       "      <th>time</th>\n",
       "      <th>value</th>\n",
       "      <th>offer_id</th>\n",
       "    </tr>\n",
       "  </thead>\n",
       "  <tbody>\n",
       "    <tr>\n",
       "      <th>0</th>\n",
       "      <td>offer received</td>\n",
       "      <td>78afa995795e4d85b5d9ceeca43f5fef</td>\n",
       "      <td>0</td>\n",
       "      <td>{'offer id': '9b98b8c7a33c4b65b9aebfe6a799e6d9'}</td>\n",
       "      <td>9b98b8c7a33c4b65b9aebfe6a799e6d9</td>\n",
       "    </tr>\n",
       "    <tr>\n",
       "      <th>2</th>\n",
       "      <td>offer received</td>\n",
       "      <td>e2127556f4f64592b11af22de27a7932</td>\n",
       "      <td>0</td>\n",
       "      <td>{'offer id': '2906b810c7d4411798c6938adc9daaa5'}</td>\n",
       "      <td>2906b810c7d4411798c6938adc9daaa5</td>\n",
       "    </tr>\n",
       "    <tr>\n",
       "      <th>5</th>\n",
       "      <td>offer received</td>\n",
       "      <td>389bc3fa690240e798340f5a15918d5c</td>\n",
       "      <td>0</td>\n",
       "      <td>{'offer id': 'f19421c1d4aa40978ebb69ca19b0e20d'}</td>\n",
       "      <td>f19421c1d4aa40978ebb69ca19b0e20d</td>\n",
       "    </tr>\n",
       "    <tr>\n",
       "      <th>7</th>\n",
       "      <td>offer received</td>\n",
       "      <td>2eeac8d8feae4a8cad5a6af0499a211d</td>\n",
       "      <td>0</td>\n",
       "      <td>{'offer id': '3f207df678b143eea3cee63160fa8bed'}</td>\n",
       "      <td>3f207df678b143eea3cee63160fa8bed</td>\n",
       "    </tr>\n",
       "    <tr>\n",
       "      <th>8</th>\n",
       "      <td>offer received</td>\n",
       "      <td>aa4862eba776480b8bb9c68455b8c2e1</td>\n",
       "      <td>0</td>\n",
       "      <td>{'offer id': '0b1e1539f2cc45b7b9fa7c272da2e1d7'}</td>\n",
       "      <td>0b1e1539f2cc45b7b9fa7c272da2e1d7</td>\n",
       "    </tr>\n",
       "  </tbody>\n",
       "</table>\n",
       "</div>"
      ],
      "text/plain": [
       "            event                       customer_id  time  \\\n",
       "0  offer received  78afa995795e4d85b5d9ceeca43f5fef     0   \n",
       "2  offer received  e2127556f4f64592b11af22de27a7932     0   \n",
       "5  offer received  389bc3fa690240e798340f5a15918d5c     0   \n",
       "7  offer received  2eeac8d8feae4a8cad5a6af0499a211d     0   \n",
       "8  offer received  aa4862eba776480b8bb9c68455b8c2e1     0   \n",
       "\n",
       "                                              value  \\\n",
       "0  {'offer id': '9b98b8c7a33c4b65b9aebfe6a799e6d9'}   \n",
       "2  {'offer id': '2906b810c7d4411798c6938adc9daaa5'}   \n",
       "5  {'offer id': 'f19421c1d4aa40978ebb69ca19b0e20d'}   \n",
       "7  {'offer id': '3f207df678b143eea3cee63160fa8bed'}   \n",
       "8  {'offer id': '0b1e1539f2cc45b7b9fa7c272da2e1d7'}   \n",
       "\n",
       "                           offer_id  \n",
       "0  9b98b8c7a33c4b65b9aebfe6a799e6d9  \n",
       "2  2906b810c7d4411798c6938adc9daaa5  \n",
       "5  f19421c1d4aa40978ebb69ca19b0e20d  \n",
       "7  3f207df678b143eea3cee63160fa8bed  \n",
       "8  0b1e1539f2cc45b7b9fa7c272da2e1d7  "
      ]
     },
     "execution_count": 45,
     "metadata": {},
     "output_type": "execute_result"
    }
   ],
   "source": [
    "offer_events['offer_id'] = offer_events['value'].apply(clean_offers)\n",
    "offer_events.head()"
   ]
  },
  {
   "cell_type": "code",
   "execution_count": 46,
   "metadata": {},
   "outputs": [
    {
     "data": {
      "text/html": [
       "<div>\n",
       "<style scoped>\n",
       "    .dataframe tbody tr th:only-of-type {\n",
       "        vertical-align: middle;\n",
       "    }\n",
       "\n",
       "    .dataframe tbody tr th {\n",
       "        vertical-align: top;\n",
       "    }\n",
       "\n",
       "    .dataframe thead th {\n",
       "        text-align: right;\n",
       "    }\n",
       "</style>\n",
       "<table border=\"1\" class=\"dataframe\">\n",
       "  <thead>\n",
       "    <tr style=\"text-align: right;\">\n",
       "      <th></th>\n",
       "      <th>offer_id</th>\n",
       "      <th>offer_type</th>\n",
       "    </tr>\n",
       "  </thead>\n",
       "  <tbody>\n",
       "    <tr>\n",
       "      <th>0</th>\n",
       "      <td>ae264e3637204a6fb9bb56bc8210ddfd</td>\n",
       "      <td>bogo</td>\n",
       "    </tr>\n",
       "    <tr>\n",
       "      <th>1</th>\n",
       "      <td>4d5c57ea9a6940dd891ad53e9dbe8da0</td>\n",
       "      <td>bogo</td>\n",
       "    </tr>\n",
       "    <tr>\n",
       "      <th>2</th>\n",
       "      <td>3f207df678b143eea3cee63160fa8bed</td>\n",
       "      <td>informational</td>\n",
       "    </tr>\n",
       "    <tr>\n",
       "      <th>3</th>\n",
       "      <td>9b98b8c7a33c4b65b9aebfe6a799e6d9</td>\n",
       "      <td>bogo</td>\n",
       "    </tr>\n",
       "    <tr>\n",
       "      <th>4</th>\n",
       "      <td>0b1e1539f2cc45b7b9fa7c272da2e1d7</td>\n",
       "      <td>discount</td>\n",
       "    </tr>\n",
       "    <tr>\n",
       "      <th>5</th>\n",
       "      <td>2298d6c36e964ae4a3e7e9706d1fb8c2</td>\n",
       "      <td>discount</td>\n",
       "    </tr>\n",
       "    <tr>\n",
       "      <th>6</th>\n",
       "      <td>fafdcd668e3743c1bb461111dcafc2a4</td>\n",
       "      <td>discount</td>\n",
       "    </tr>\n",
       "    <tr>\n",
       "      <th>7</th>\n",
       "      <td>5a8bc65990b245e5a138643cd4eb9837</td>\n",
       "      <td>informational</td>\n",
       "    </tr>\n",
       "    <tr>\n",
       "      <th>8</th>\n",
       "      <td>f19421c1d4aa40978ebb69ca19b0e20d</td>\n",
       "      <td>bogo</td>\n",
       "    </tr>\n",
       "    <tr>\n",
       "      <th>9</th>\n",
       "      <td>2906b810c7d4411798c6938adc9daaa5</td>\n",
       "      <td>discount</td>\n",
       "    </tr>\n",
       "  </tbody>\n",
       "</table>\n",
       "</div>"
      ],
      "text/plain": [
       "                           offer_id     offer_type\n",
       "0  ae264e3637204a6fb9bb56bc8210ddfd           bogo\n",
       "1  4d5c57ea9a6940dd891ad53e9dbe8da0           bogo\n",
       "2  3f207df678b143eea3cee63160fa8bed  informational\n",
       "3  9b98b8c7a33c4b65b9aebfe6a799e6d9           bogo\n",
       "4  0b1e1539f2cc45b7b9fa7c272da2e1d7       discount\n",
       "5  2298d6c36e964ae4a3e7e9706d1fb8c2       discount\n",
       "6  fafdcd668e3743c1bb461111dcafc2a4       discount\n",
       "7  5a8bc65990b245e5a138643cd4eb9837  informational\n",
       "8  f19421c1d4aa40978ebb69ca19b0e20d           bogo\n",
       "9  2906b810c7d4411798c6938adc9daaa5       discount"
      ]
     },
     "execution_count": 46,
     "metadata": {},
     "output_type": "execute_result"
    }
   ],
   "source": [
    "# Create a dictionary for offer id and their type\n",
    "offer_type_df = portfolio[['offer_id', 'offer_type']]\n",
    "offer_type_df"
   ]
  },
  {
   "cell_type": "code",
   "execution_count": 47,
   "metadata": {},
   "outputs": [
    {
     "data": {
      "text/html": [
       "<div>\n",
       "<style scoped>\n",
       "    .dataframe tbody tr th:only-of-type {\n",
       "        vertical-align: middle;\n",
       "    }\n",
       "\n",
       "    .dataframe tbody tr th {\n",
       "        vertical-align: top;\n",
       "    }\n",
       "\n",
       "    .dataframe thead th {\n",
       "        text-align: right;\n",
       "    }\n",
       "</style>\n",
       "<table border=\"1\" class=\"dataframe\">\n",
       "  <thead>\n",
       "    <tr style=\"text-align: right;\">\n",
       "      <th></th>\n",
       "      <th>event</th>\n",
       "      <th>customer_id</th>\n",
       "      <th>time</th>\n",
       "      <th>value</th>\n",
       "      <th>offer_id</th>\n",
       "      <th>offer_type</th>\n",
       "    </tr>\n",
       "  </thead>\n",
       "  <tbody>\n",
       "    <tr>\n",
       "      <th>0</th>\n",
       "      <td>offer received</td>\n",
       "      <td>78afa995795e4d85b5d9ceeca43f5fef</td>\n",
       "      <td>0</td>\n",
       "      <td>{'offer id': '9b98b8c7a33c4b65b9aebfe6a799e6d9'}</td>\n",
       "      <td>9b98b8c7a33c4b65b9aebfe6a799e6d9</td>\n",
       "      <td>bogo</td>\n",
       "    </tr>\n",
       "    <tr>\n",
       "      <th>1</th>\n",
       "      <td>offer received</td>\n",
       "      <td>ebe7ef46ea6f4963a7dd49f501b26779</td>\n",
       "      <td>0</td>\n",
       "      <td>{'offer id': '9b98b8c7a33c4b65b9aebfe6a799e6d9'}</td>\n",
       "      <td>9b98b8c7a33c4b65b9aebfe6a799e6d9</td>\n",
       "      <td>bogo</td>\n",
       "    </tr>\n",
       "    <tr>\n",
       "      <th>2</th>\n",
       "      <td>offer received</td>\n",
       "      <td>f082d80f0aac47a99173ba8ef8fc1909</td>\n",
       "      <td>0</td>\n",
       "      <td>{'offer id': '9b98b8c7a33c4b65b9aebfe6a799e6d9'}</td>\n",
       "      <td>9b98b8c7a33c4b65b9aebfe6a799e6d9</td>\n",
       "      <td>bogo</td>\n",
       "    </tr>\n",
       "    <tr>\n",
       "      <th>3</th>\n",
       "      <td>offer received</td>\n",
       "      <td>c0d210398dee4a0895b24444a5fcd1d2</td>\n",
       "      <td>0</td>\n",
       "      <td>{'offer id': '9b98b8c7a33c4b65b9aebfe6a799e6d9'}</td>\n",
       "      <td>9b98b8c7a33c4b65b9aebfe6a799e6d9</td>\n",
       "      <td>bogo</td>\n",
       "    </tr>\n",
       "    <tr>\n",
       "      <th>4</th>\n",
       "      <td>offer received</td>\n",
       "      <td>57dd18ec5ddc46828afb81ec5977bef2</td>\n",
       "      <td>0</td>\n",
       "      <td>{'offer id': '9b98b8c7a33c4b65b9aebfe6a799e6d9'}</td>\n",
       "      <td>9b98b8c7a33c4b65b9aebfe6a799e6d9</td>\n",
       "      <td>bogo</td>\n",
       "    </tr>\n",
       "  </tbody>\n",
       "</table>\n",
       "</div>"
      ],
      "text/plain": [
       "            event                       customer_id  time  \\\n",
       "0  offer received  78afa995795e4d85b5d9ceeca43f5fef     0   \n",
       "1  offer received  ebe7ef46ea6f4963a7dd49f501b26779     0   \n",
       "2  offer received  f082d80f0aac47a99173ba8ef8fc1909     0   \n",
       "3  offer received  c0d210398dee4a0895b24444a5fcd1d2     0   \n",
       "4  offer received  57dd18ec5ddc46828afb81ec5977bef2     0   \n",
       "\n",
       "                                              value  \\\n",
       "0  {'offer id': '9b98b8c7a33c4b65b9aebfe6a799e6d9'}   \n",
       "1  {'offer id': '9b98b8c7a33c4b65b9aebfe6a799e6d9'}   \n",
       "2  {'offer id': '9b98b8c7a33c4b65b9aebfe6a799e6d9'}   \n",
       "3  {'offer id': '9b98b8c7a33c4b65b9aebfe6a799e6d9'}   \n",
       "4  {'offer id': '9b98b8c7a33c4b65b9aebfe6a799e6d9'}   \n",
       "\n",
       "                           offer_id offer_type  \n",
       "0  9b98b8c7a33c4b65b9aebfe6a799e6d9       bogo  \n",
       "1  9b98b8c7a33c4b65b9aebfe6a799e6d9       bogo  \n",
       "2  9b98b8c7a33c4b65b9aebfe6a799e6d9       bogo  \n",
       "3  9b98b8c7a33c4b65b9aebfe6a799e6d9       bogo  \n",
       "4  9b98b8c7a33c4b65b9aebfe6a799e6d9       bogo  "
      ]
     },
     "execution_count": 47,
     "metadata": {},
     "output_type": "execute_result"
    }
   ],
   "source": [
    "offer_events = pd.merge(offer_events, offer_type_df, on='offer_id')\n",
    "offer_events.head()"
   ]
  },
  {
   "cell_type": "code",
   "execution_count": 48,
   "metadata": {},
   "outputs": [
    {
     "data": {
      "text/plain": [
       "offer_type     event          \n",
       "bogo           offer completed    15258\n",
       "               offer received     26537\n",
       "               offer viewed       22039\n",
       "discount       offer completed    17186\n",
       "               offer received     26664\n",
       "               offer viewed       18461\n",
       "informational  offer received     13300\n",
       "               offer viewed        9360\n",
       "Name: customer_id, dtype: int64"
      ]
     },
     "execution_count": 48,
     "metadata": {},
     "output_type": "execute_result"
    }
   ],
   "source": [
    "# View count of events grouped by offer type\n",
    "offer_events.groupby(['offer_type', 'event'])['customer_id'].count()"
   ]
  },
  {
   "cell_type": "markdown",
   "metadata": {},
   "source": [
    "**Both BOGO and Discount have offer received, viewed and completed. Informational does not have offer completed so if a customer makes a purchase within a certain time after viewing the offer it will be considered completed.**"
   ]
  },
  {
   "cell_type": "code",
   "execution_count": 49,
   "metadata": {},
   "outputs": [
    {
     "data": {
      "text/html": [
       "<div>\n",
       "<style scoped>\n",
       "    .dataframe tbody tr th:only-of-type {\n",
       "        vertical-align: middle;\n",
       "    }\n",
       "\n",
       "    .dataframe tbody tr th {\n",
       "        vertical-align: top;\n",
       "    }\n",
       "\n",
       "    .dataframe thead th {\n",
       "        text-align: right;\n",
       "    }\n",
       "</style>\n",
       "<table border=\"1\" class=\"dataframe\">\n",
       "  <thead>\n",
       "    <tr style=\"text-align: right;\">\n",
       "      <th></th>\n",
       "      <th>event</th>\n",
       "      <th>customer_id</th>\n",
       "      <th>time</th>\n",
       "      <th>offer_id</th>\n",
       "      <th>offer_type</th>\n",
       "    </tr>\n",
       "  </thead>\n",
       "  <tbody>\n",
       "    <tr>\n",
       "      <th>0</th>\n",
       "      <td>offer received</td>\n",
       "      <td>78afa995795e4d85b5d9ceeca43f5fef</td>\n",
       "      <td>0</td>\n",
       "      <td>9b98b8c7a33c4b65b9aebfe6a799e6d9</td>\n",
       "      <td>bogo</td>\n",
       "    </tr>\n",
       "    <tr>\n",
       "      <th>1</th>\n",
       "      <td>offer received</td>\n",
       "      <td>ebe7ef46ea6f4963a7dd49f501b26779</td>\n",
       "      <td>0</td>\n",
       "      <td>9b98b8c7a33c4b65b9aebfe6a799e6d9</td>\n",
       "      <td>bogo</td>\n",
       "    </tr>\n",
       "    <tr>\n",
       "      <th>2</th>\n",
       "      <td>offer received</td>\n",
       "      <td>f082d80f0aac47a99173ba8ef8fc1909</td>\n",
       "      <td>0</td>\n",
       "      <td>9b98b8c7a33c4b65b9aebfe6a799e6d9</td>\n",
       "      <td>bogo</td>\n",
       "    </tr>\n",
       "    <tr>\n",
       "      <th>3</th>\n",
       "      <td>offer received</td>\n",
       "      <td>c0d210398dee4a0895b24444a5fcd1d2</td>\n",
       "      <td>0</td>\n",
       "      <td>9b98b8c7a33c4b65b9aebfe6a799e6d9</td>\n",
       "      <td>bogo</td>\n",
       "    </tr>\n",
       "    <tr>\n",
       "      <th>4</th>\n",
       "      <td>offer received</td>\n",
       "      <td>57dd18ec5ddc46828afb81ec5977bef2</td>\n",
       "      <td>0</td>\n",
       "      <td>9b98b8c7a33c4b65b9aebfe6a799e6d9</td>\n",
       "      <td>bogo</td>\n",
       "    </tr>\n",
       "  </tbody>\n",
       "</table>\n",
       "</div>"
      ],
      "text/plain": [
       "            event                       customer_id  time  \\\n",
       "0  offer received  78afa995795e4d85b5d9ceeca43f5fef     0   \n",
       "1  offer received  ebe7ef46ea6f4963a7dd49f501b26779     0   \n",
       "2  offer received  f082d80f0aac47a99173ba8ef8fc1909     0   \n",
       "3  offer received  c0d210398dee4a0895b24444a5fcd1d2     0   \n",
       "4  offer received  57dd18ec5ddc46828afb81ec5977bef2     0   \n",
       "\n",
       "                           offer_id offer_type  \n",
       "0  9b98b8c7a33c4b65b9aebfe6a799e6d9       bogo  \n",
       "1  9b98b8c7a33c4b65b9aebfe6a799e6d9       bogo  \n",
       "2  9b98b8c7a33c4b65b9aebfe6a799e6d9       bogo  \n",
       "3  9b98b8c7a33c4b65b9aebfe6a799e6d9       bogo  \n",
       "4  9b98b8c7a33c4b65b9aebfe6a799e6d9       bogo  "
      ]
     },
     "execution_count": 49,
     "metadata": {},
     "output_type": "execute_result"
    }
   ],
   "source": [
    "# Drop value as value is not needed and drop offer_type to prevent duplication when merging later\n",
    "offer_events.drop(columns = ['value'], inplace = True)\n",
    "offer_events.head()"
   ]
  },
  {
   "cell_type": "code",
   "execution_count": 50,
   "metadata": {},
   "outputs": [
    {
     "data": {
      "text/html": [
       "<div>\n",
       "<style scoped>\n",
       "    .dataframe tbody tr th:only-of-type {\n",
       "        vertical-align: middle;\n",
       "    }\n",
       "\n",
       "    .dataframe tbody tr th {\n",
       "        vertical-align: top;\n",
       "    }\n",
       "\n",
       "    .dataframe thead th {\n",
       "        text-align: right;\n",
       "    }\n",
       "</style>\n",
       "<table border=\"1\" class=\"dataframe\">\n",
       "  <thead>\n",
       "    <tr style=\"text-align: right;\">\n",
       "      <th></th>\n",
       "      <th>customer_id</th>\n",
       "      <th>time</th>\n",
       "      <th>offer_id</th>\n",
       "      <th>offer_received</th>\n",
       "      <th>offer_viewed</th>\n",
       "      <th>offer_completed</th>\n",
       "      <th>offer_type</th>\n",
       "    </tr>\n",
       "  </thead>\n",
       "  <tbody>\n",
       "    <tr>\n",
       "      <th>0</th>\n",
       "      <td>78afa995795e4d85b5d9ceeca43f5fef</td>\n",
       "      <td>0.0</td>\n",
       "      <td>9b98b8c7a33c4b65b9aebfe6a799e6d9</td>\n",
       "      <td>1</td>\n",
       "      <td>0</td>\n",
       "      <td>0</td>\n",
       "      <td>bogo</td>\n",
       "    </tr>\n",
       "    <tr>\n",
       "      <th>1</th>\n",
       "      <td>ebe7ef46ea6f4963a7dd49f501b26779</td>\n",
       "      <td>0.0</td>\n",
       "      <td>9b98b8c7a33c4b65b9aebfe6a799e6d9</td>\n",
       "      <td>1</td>\n",
       "      <td>0</td>\n",
       "      <td>0</td>\n",
       "      <td>bogo</td>\n",
       "    </tr>\n",
       "    <tr>\n",
       "      <th>2</th>\n",
       "      <td>f082d80f0aac47a99173ba8ef8fc1909</td>\n",
       "      <td>0.0</td>\n",
       "      <td>9b98b8c7a33c4b65b9aebfe6a799e6d9</td>\n",
       "      <td>1</td>\n",
       "      <td>0</td>\n",
       "      <td>0</td>\n",
       "      <td>bogo</td>\n",
       "    </tr>\n",
       "    <tr>\n",
       "      <th>3</th>\n",
       "      <td>c0d210398dee4a0895b24444a5fcd1d2</td>\n",
       "      <td>0.0</td>\n",
       "      <td>9b98b8c7a33c4b65b9aebfe6a799e6d9</td>\n",
       "      <td>1</td>\n",
       "      <td>0</td>\n",
       "      <td>0</td>\n",
       "      <td>bogo</td>\n",
       "    </tr>\n",
       "    <tr>\n",
       "      <th>4</th>\n",
       "      <td>57dd18ec5ddc46828afb81ec5977bef2</td>\n",
       "      <td>0.0</td>\n",
       "      <td>9b98b8c7a33c4b65b9aebfe6a799e6d9</td>\n",
       "      <td>1</td>\n",
       "      <td>0</td>\n",
       "      <td>0</td>\n",
       "      <td>bogo</td>\n",
       "    </tr>\n",
       "  </tbody>\n",
       "</table>\n",
       "</div>"
      ],
      "text/plain": [
       "                        customer_id  time                          offer_id  \\\n",
       "0  78afa995795e4d85b5d9ceeca43f5fef   0.0  9b98b8c7a33c4b65b9aebfe6a799e6d9   \n",
       "1  ebe7ef46ea6f4963a7dd49f501b26779   0.0  9b98b8c7a33c4b65b9aebfe6a799e6d9   \n",
       "2  f082d80f0aac47a99173ba8ef8fc1909   0.0  9b98b8c7a33c4b65b9aebfe6a799e6d9   \n",
       "3  c0d210398dee4a0895b24444a5fcd1d2   0.0  9b98b8c7a33c4b65b9aebfe6a799e6d9   \n",
       "4  57dd18ec5ddc46828afb81ec5977bef2   0.0  9b98b8c7a33c4b65b9aebfe6a799e6d9   \n",
       "\n",
       "   offer_received  offer_viewed  offer_completed offer_type  \n",
       "0               1             0                0       bogo  \n",
       "1               1             0                0       bogo  \n",
       "2               1             0                0       bogo  \n",
       "3               1             0                0       bogo  \n",
       "4               1             0                0       bogo  "
      ]
     },
     "execution_count": 50,
     "metadata": {},
     "output_type": "execute_result"
    }
   ],
   "source": [
    "# Encode event using get_dummies\n",
    "offer_events = pd.get_dummies(data = offer_events, columns = ['event'])\n",
    "\n",
    "# Rename columns\n",
    "offer_events = offer_events.rename(columns = {'event_offer received': 'offer_received', 'event_offer viewed': 'offer_viewed',\\\n",
    "                                             'event_offer completed': 'offer_completed', 'offer_type': 'offer_type'})\n",
    "# Reorder columns\n",
    "offer_events = offer_events[['customer_id', 'time', 'offer_id', 'offer_received', 'offer_viewed', 'offer_completed',\n",
    "                             'offer_type']]\n",
    "\n",
    "# Convert time from hours to days\n",
    "offer_events['time'] = offer_events['time'] / 24.0\n",
    "\n",
    "offer_events.head()"
   ]
  },
  {
   "cell_type": "code",
   "execution_count": 51,
   "metadata": {},
   "outputs": [
    {
     "data": {
      "text/plain": [
       "True"
      ]
     },
     "execution_count": 51,
     "metadata": {},
     "output_type": "execute_result"
    }
   ],
   "source": [
    "offer_events['offer_type'][offer_events['offer_id'] == '9b98b8c7a33c4b65b9aebfe6a799e6d9'].values[0] == 'bogo'"
   ]
  },
  {
   "cell_type": "code",
   "execution_count": 52,
   "metadata": {},
   "outputs": [
    {
     "data": {
      "text/html": [
       "<div>\n",
       "<style scoped>\n",
       "    .dataframe tbody tr th:only-of-type {\n",
       "        vertical-align: middle;\n",
       "    }\n",
       "\n",
       "    .dataframe tbody tr th {\n",
       "        vertical-align: top;\n",
       "    }\n",
       "\n",
       "    .dataframe thead th {\n",
       "        text-align: right;\n",
       "    }\n",
       "</style>\n",
       "<table border=\"1\" class=\"dataframe\">\n",
       "  <thead>\n",
       "    <tr style=\"text-align: right;\">\n",
       "      <th></th>\n",
       "      <th>event</th>\n",
       "      <th>customer_id</th>\n",
       "      <th>time</th>\n",
       "      <th>value</th>\n",
       "    </tr>\n",
       "  </thead>\n",
       "  <tbody>\n",
       "    <tr>\n",
       "      <th>12654</th>\n",
       "      <td>transaction</td>\n",
       "      <td>02c083884c7d45b39cc68e1314fec56c</td>\n",
       "      <td>0</td>\n",
       "      <td>{'amount': 0.8300000000000001}</td>\n",
       "    </tr>\n",
       "    <tr>\n",
       "      <th>12657</th>\n",
       "      <td>transaction</td>\n",
       "      <td>9fa9ae8f57894cc9a3b8a9bbe0fc1b2f</td>\n",
       "      <td>0</td>\n",
       "      <td>{'amount': 34.56}</td>\n",
       "    </tr>\n",
       "    <tr>\n",
       "      <th>12659</th>\n",
       "      <td>transaction</td>\n",
       "      <td>54890f68699049c2a04d415abc25e717</td>\n",
       "      <td>0</td>\n",
       "      <td>{'amount': 13.23}</td>\n",
       "    </tr>\n",
       "    <tr>\n",
       "      <th>12670</th>\n",
       "      <td>transaction</td>\n",
       "      <td>b2f1cd155b864803ad8334cdf13c4bd2</td>\n",
       "      <td>0</td>\n",
       "      <td>{'amount': 19.51}</td>\n",
       "    </tr>\n",
       "    <tr>\n",
       "      <th>12671</th>\n",
       "      <td>transaction</td>\n",
       "      <td>fe97aa22dd3e48c8b143116a8403dd52</td>\n",
       "      <td>0</td>\n",
       "      <td>{'amount': 18.97}</td>\n",
       "    </tr>\n",
       "  </tbody>\n",
       "</table>\n",
       "</div>"
      ],
      "text/plain": [
       "             event                       customer_id  time  \\\n",
       "12654  transaction  02c083884c7d45b39cc68e1314fec56c     0   \n",
       "12657  transaction  9fa9ae8f57894cc9a3b8a9bbe0fc1b2f     0   \n",
       "12659  transaction  54890f68699049c2a04d415abc25e717     0   \n",
       "12670  transaction  b2f1cd155b864803ad8334cdf13c4bd2     0   \n",
       "12671  transaction  fe97aa22dd3e48c8b143116a8403dd52     0   \n",
       "\n",
       "                                value  \n",
       "12654  {'amount': 0.8300000000000001}  \n",
       "12657               {'amount': 34.56}  \n",
       "12659               {'amount': 13.23}  \n",
       "12670               {'amount': 19.51}  \n",
       "12671               {'amount': 18.97}  "
      ]
     },
     "execution_count": 52,
     "metadata": {},
     "output_type": "execute_result"
    }
   ],
   "source": [
    "transaction_events.head()"
   ]
  },
  {
   "cell_type": "code",
   "execution_count": 53,
   "metadata": {
    "scrolled": false
   },
   "outputs": [
    {
     "name": "stderr",
     "output_type": "stream",
     "text": [
      "/opt/conda/lib/python3.6/site-packages/ipykernel_launcher.py:2: SettingWithCopyWarning: \n",
      "A value is trying to be set on a copy of a slice from a DataFrame.\n",
      "Try using .loc[row_indexer,col_indexer] = value instead\n",
      "\n",
      "See the caveats in the documentation: http://pandas.pydata.org/pandas-docs/stable/indexing.html#indexing-view-versus-copy\n",
      "  \n",
      "/opt/conda/lib/python3.6/site-packages/pandas/core/frame.py:3697: SettingWithCopyWarning: \n",
      "A value is trying to be set on a copy of a slice from a DataFrame\n",
      "\n",
      "See the caveats in the documentation: http://pandas.pydata.org/pandas-docs/stable/indexing.html#indexing-view-versus-copy\n",
      "  errors=errors)\n",
      "/opt/conda/lib/python3.6/site-packages/ipykernel_launcher.py:8: SettingWithCopyWarning: \n",
      "A value is trying to be set on a copy of a slice from a DataFrame.\n",
      "Try using .loc[row_indexer,col_indexer] = value instead\n",
      "\n",
      "See the caveats in the documentation: http://pandas.pydata.org/pandas-docs/stable/indexing.html#indexing-view-versus-copy\n",
      "  \n"
     ]
    },
    {
     "data": {
      "text/html": [
       "<div>\n",
       "<style scoped>\n",
       "    .dataframe tbody tr th:only-of-type {\n",
       "        vertical-align: middle;\n",
       "    }\n",
       "\n",
       "    .dataframe tbody tr th {\n",
       "        vertical-align: top;\n",
       "    }\n",
       "\n",
       "    .dataframe thead th {\n",
       "        text-align: right;\n",
       "    }\n",
       "</style>\n",
       "<table border=\"1\" class=\"dataframe\">\n",
       "  <thead>\n",
       "    <tr style=\"text-align: right;\">\n",
       "      <th></th>\n",
       "      <th>customer_id</th>\n",
       "      <th>time</th>\n",
       "      <th>amount</th>\n",
       "    </tr>\n",
       "  </thead>\n",
       "  <tbody>\n",
       "    <tr>\n",
       "      <th>12654</th>\n",
       "      <td>02c083884c7d45b39cc68e1314fec56c</td>\n",
       "      <td>0.0</td>\n",
       "      <td>0.83</td>\n",
       "    </tr>\n",
       "    <tr>\n",
       "      <th>12657</th>\n",
       "      <td>9fa9ae8f57894cc9a3b8a9bbe0fc1b2f</td>\n",
       "      <td>0.0</td>\n",
       "      <td>34.56</td>\n",
       "    </tr>\n",
       "    <tr>\n",
       "      <th>12659</th>\n",
       "      <td>54890f68699049c2a04d415abc25e717</td>\n",
       "      <td>0.0</td>\n",
       "      <td>13.23</td>\n",
       "    </tr>\n",
       "    <tr>\n",
       "      <th>12670</th>\n",
       "      <td>b2f1cd155b864803ad8334cdf13c4bd2</td>\n",
       "      <td>0.0</td>\n",
       "      <td>19.51</td>\n",
       "    </tr>\n",
       "    <tr>\n",
       "      <th>12671</th>\n",
       "      <td>fe97aa22dd3e48c8b143116a8403dd52</td>\n",
       "      <td>0.0</td>\n",
       "      <td>18.97</td>\n",
       "    </tr>\n",
       "  </tbody>\n",
       "</table>\n",
       "</div>"
      ],
      "text/plain": [
       "                            customer_id  time  amount\n",
       "12654  02c083884c7d45b39cc68e1314fec56c   0.0    0.83\n",
       "12657  9fa9ae8f57894cc9a3b8a9bbe0fc1b2f   0.0   34.56\n",
       "12659  54890f68699049c2a04d415abc25e717   0.0   13.23\n",
       "12670  b2f1cd155b864803ad8334cdf13c4bd2   0.0   19.51\n",
       "12671  fe97aa22dd3e48c8b143116a8403dd52   0.0   18.97"
      ]
     },
     "execution_count": 53,
     "metadata": {},
     "output_type": "execute_result"
    }
   ],
   "source": [
    "# Similar to offer_events, extract the value from the dictionary and create new column \"amount\"\n",
    "transaction_events['amount'] = transaction_events['value'].apply(lambda x: x['amount'])\n",
    "\n",
    "# Drop value column as it is no longer needed and event column to prevent duplications when merging\n",
    "transaction_events.drop(columns = ['event', 'value'], inplace = True)\n",
    "\n",
    "# Convert time from hours to days\n",
    "transaction_events['time'] = transaction_events['time'] / 24.0\n",
    "transaction_events.head()"
   ]
  },
  {
   "cell_type": "markdown",
   "metadata": {},
   "source": [
    "**Events are not a good indicator to whether or not a customer will respond to an offer. Therefore, in the merge_data function we will first need to aggregate the events corresponding to each customer. Then we will find whether or not each customer responded to an offer.**"
   ]
  },
  {
   "cell_type": "code",
   "execution_count": 54,
   "metadata": {},
   "outputs": [],
   "source": [
    "def merged_data(portfolio, profile, offer_events, transaction_events):\n",
    "    '''\n",
    "    Returns a DataFrame with information about whether or not a customer\n",
    "    responded to an offer.\n",
    "    \n",
    "    Args:\n",
    "        portfolio: DataFrame with offer data/information\n",
    "        profile: DataFrame with customer data\n",
    "        offer_events: DataFrame with customer & offer data\n",
    "        transaction_events: DataFrame with customer & transaction data\n",
    "    \n",
    "    Returns:\n",
    "        merged_df: DataFrame with Args merged\n",
    "    '''\n",
    "    offers_response = []\n",
    "    customer_ids = list(offer_events['customer_id'].unique())\n",
    "        \n",
    "    # Aggregate events to each customer by iterating over customer ids to determine customer response to an offer\n",
    "    for c_id in customer_ids:\n",
    "        customer_profile = profile[profile['customer_id'] == c_id]        \n",
    "        customer_offers = offer_events[offer_events['customer_id'] == c_id]\n",
    "        customer_transactions = transaction_events[transaction_events['customer_id'] == c_id]\n",
    "        customer_received = customer_offers[customer_offers['offer_received'] == 1]\n",
    "        customer_viewed = customer_offers[customer_offers['offer_viewed'] == 1]\n",
    "        customer_complete = customer_offers[customer_offers['offer_completed'] == 1]\n",
    "        \n",
    "        c_offer_ids = list(customer_received['offer_id'].unique())\n",
    "        \n",
    "        for offer_id in c_offer_ids:\n",
    "            offer_received = customer_offers['offer_received'][customer_offers['offer_id'] == offer_id].max()\n",
    "            offer_viewed = customer_offers['offer_viewed'][customer_offers['offer_id'] == offer_id].max()\n",
    "            offer_complete = customer_offers['offer_completed'][customer_offers['offer_id'] == offer_id].max()\n",
    "            \n",
    "            offer_duration = portfolio['offer_duration'].loc[portfolio['offer_id'] == offer_id].values[0]\n",
    "            \n",
    "            offer_received_t = customer_received['time'].loc[customer_received['offer_id'] == offer_id].values[0]\n",
    "\n",
    "            offer_end = offer_received_t + offer_duration\n",
    "            \n",
    "            # Boolean is stored in variable customer_viewed_offer\n",
    "            customer_viewed_offer = (customer_viewed['time'] >= offer_received_t) & \\\n",
    "                                    (customer_viewed['time'] <= offer_end)\n",
    "\n",
    "            # Extract rows where customer made transactions within offer period\n",
    "            transactions_within_time = customer_transactions[(customer_transactions['time'] >= offer_received_t) & \\\n",
    "                                                            (customer_transactions['time'] <= offer_end)]\n",
    "            \n",
    "            total_spending = transactions_within_time['amount'].sum()\n",
    "            \n",
    "            # 1 = Responded to offer or 0 = Did not respond to offer\n",
    "            if customer_offers['offer_type'][customer_offers['offer_id'] == offer_id].values[0] == 'informational':\n",
    "                response = int(offer_viewed and total_spending > 0)\n",
    "                \n",
    "                offers_response.append({'customer_id': c_id, 'offer_id': offer_id, 'offer_received': offer_received,\n",
    "                                        'offer_viewed': offer_viewed, 'offer_completed': offer_complete, \n",
    "                                    'time': offer_received_t, 'total_spending': total_spending, 'response': response})    \n",
    "            \n",
    "            # Offer type is BOGO or Discount\n",
    "            else:\n",
    "                offers_completed = (customer_complete['time'] >= offer_received_t) & \\\n",
    "                                    (customer_complete['time'] <= offer_end)\n",
    "                response = int((offer_viewed and offer_complete) and total_spending > 0)\n",
    "            \n",
    "                offers_response.append({'customer_id': c_id, 'offer_id': offer_id, 'offer_received': offer_received,\n",
    "                                        'offer_viewed': offer_viewed, 'offer_completed': offer_complete,\n",
    "                                        'time': offer_received_t, 'total_spending': total_spending,\n",
    "                                        'response': response})\n",
    "    \n",
    "    offers_response_df = pd.DataFrame(offers_response)\n",
    "    merged_df = pd.merge(profile, offers_response_df, on = 'customer_id')\n",
    "    merged_df = pd.merge(merged_df, portfolio, on = 'offer_id')\n",
    "    \n",
    "    merged_df.to_csv('starbucks_merged_data.csv', index = False)\n",
    "    \n",
    "    return merged_df"
   ]
  },
  {
   "cell_type": "code",
   "execution_count": 55,
   "metadata": {},
   "outputs": [
    {
     "data": {
      "text/html": [
       "<div>\n",
       "<style scoped>\n",
       "    .dataframe tbody tr th:only-of-type {\n",
       "        vertical-align: middle;\n",
       "    }\n",
       "\n",
       "    .dataframe tbody tr th {\n",
       "        vertical-align: top;\n",
       "    }\n",
       "\n",
       "    .dataframe thead th {\n",
       "        text-align: right;\n",
       "    }\n",
       "</style>\n",
       "<table border=\"1\" class=\"dataframe\">\n",
       "  <thead>\n",
       "    <tr style=\"text-align: right;\">\n",
       "      <th></th>\n",
       "      <th>gender</th>\n",
       "      <th>customer_id</th>\n",
       "      <th>income</th>\n",
       "      <th>income_K</th>\n",
       "      <th>age_group</th>\n",
       "      <th>member_duration</th>\n",
       "      <th>offer_completed</th>\n",
       "      <th>offer_id</th>\n",
       "      <th>offer_received</th>\n",
       "      <th>offer_viewed</th>\n",
       "      <th>response</th>\n",
       "      <th>time</th>\n",
       "      <th>total_spending</th>\n",
       "      <th>channels</th>\n",
       "      <th>difficulty</th>\n",
       "      <th>offer_duration</th>\n",
       "      <th>offer_type</th>\n",
       "      <th>reward</th>\n",
       "    </tr>\n",
       "  </thead>\n",
       "  <tbody>\n",
       "    <tr>\n",
       "      <th>0</th>\n",
       "      <td>F</td>\n",
       "      <td>0610b486422d4921ae7d2bf64640c50b</td>\n",
       "      <td>112000.0</td>\n",
       "      <td>112.0</td>\n",
       "      <td>50-59</td>\n",
       "      <td>1410</td>\n",
       "      <td>1</td>\n",
       "      <td>9b98b8c7a33c4b65b9aebfe6a799e6d9</td>\n",
       "      <td>1</td>\n",
       "      <td>0</td>\n",
       "      <td>0</td>\n",
       "      <td>17.0</td>\n",
       "      <td>23.22</td>\n",
       "      <td>['web', 'email', 'mobile']</td>\n",
       "      <td>5</td>\n",
       "      <td>7</td>\n",
       "      <td>bogo</td>\n",
       "      <td>5</td>\n",
       "    </tr>\n",
       "    <tr>\n",
       "      <th>1</th>\n",
       "      <td>F</td>\n",
       "      <td>78afa995795e4d85b5d9ceeca43f5fef</td>\n",
       "      <td>100000.0</td>\n",
       "      <td>100.0</td>\n",
       "      <td>60+</td>\n",
       "      <td>1477</td>\n",
       "      <td>1</td>\n",
       "      <td>9b98b8c7a33c4b65b9aebfe6a799e6d9</td>\n",
       "      <td>1</td>\n",
       "      <td>1</td>\n",
       "      <td>1</td>\n",
       "      <td>0.0</td>\n",
       "      <td>37.67</td>\n",
       "      <td>['web', 'email', 'mobile']</td>\n",
       "      <td>5</td>\n",
       "      <td>7</td>\n",
       "      <td>bogo</td>\n",
       "      <td>5</td>\n",
       "    </tr>\n",
       "    <tr>\n",
       "      <th>2</th>\n",
       "      <td>M</td>\n",
       "      <td>e2127556f4f64592b11af22de27a7932</td>\n",
       "      <td>70000.0</td>\n",
       "      <td>70.0</td>\n",
       "      <td>60+</td>\n",
       "      <td>1125</td>\n",
       "      <td>1</td>\n",
       "      <td>9b98b8c7a33c4b65b9aebfe6a799e6d9</td>\n",
       "      <td>1</td>\n",
       "      <td>1</td>\n",
       "      <td>1</td>\n",
       "      <td>17.0</td>\n",
       "      <td>18.42</td>\n",
       "      <td>['web', 'email', 'mobile']</td>\n",
       "      <td>5</td>\n",
       "      <td>7</td>\n",
       "      <td>bogo</td>\n",
       "      <td>5</td>\n",
       "    </tr>\n",
       "    <tr>\n",
       "      <th>3</th>\n",
       "      <td>M</td>\n",
       "      <td>389bc3fa690240e798340f5a15918d5c</td>\n",
       "      <td>53000.0</td>\n",
       "      <td>53.0</td>\n",
       "      <td>60+</td>\n",
       "      <td>1201</td>\n",
       "      <td>1</td>\n",
       "      <td>9b98b8c7a33c4b65b9aebfe6a799e6d9</td>\n",
       "      <td>1</td>\n",
       "      <td>1</td>\n",
       "      <td>0</td>\n",
       "      <td>7.0</td>\n",
       "      <td>0.00</td>\n",
       "      <td>['web', 'email', 'mobile']</td>\n",
       "      <td>5</td>\n",
       "      <td>7</td>\n",
       "      <td>bogo</td>\n",
       "      <td>5</td>\n",
       "    </tr>\n",
       "    <tr>\n",
       "      <th>4</th>\n",
       "      <td>M</td>\n",
       "      <td>6445de3b47274c759400cd68131d91b4</td>\n",
       "      <td>42000.0</td>\n",
       "      <td>42.0</td>\n",
       "      <td>50-59</td>\n",
       "      <td>1241</td>\n",
       "      <td>1</td>\n",
       "      <td>9b98b8c7a33c4b65b9aebfe6a799e6d9</td>\n",
       "      <td>1</td>\n",
       "      <td>0</td>\n",
       "      <td>0</td>\n",
       "      <td>14.0</td>\n",
       "      <td>1.14</td>\n",
       "      <td>['web', 'email', 'mobile']</td>\n",
       "      <td>5</td>\n",
       "      <td>7</td>\n",
       "      <td>bogo</td>\n",
       "      <td>5</td>\n",
       "    </tr>\n",
       "  </tbody>\n",
       "</table>\n",
       "</div>"
      ],
      "text/plain": [
       "  gender                       customer_id    income  income_K age_group  \\\n",
       "0      F  0610b486422d4921ae7d2bf64640c50b  112000.0     112.0     50-59   \n",
       "1      F  78afa995795e4d85b5d9ceeca43f5fef  100000.0     100.0       60+   \n",
       "2      M  e2127556f4f64592b11af22de27a7932   70000.0      70.0       60+   \n",
       "3      M  389bc3fa690240e798340f5a15918d5c   53000.0      53.0       60+   \n",
       "4      M  6445de3b47274c759400cd68131d91b4   42000.0      42.0     50-59   \n",
       "\n",
       "   member_duration  offer_completed                          offer_id  \\\n",
       "0             1410                1  9b98b8c7a33c4b65b9aebfe6a799e6d9   \n",
       "1             1477                1  9b98b8c7a33c4b65b9aebfe6a799e6d9   \n",
       "2             1125                1  9b98b8c7a33c4b65b9aebfe6a799e6d9   \n",
       "3             1201                1  9b98b8c7a33c4b65b9aebfe6a799e6d9   \n",
       "4             1241                1  9b98b8c7a33c4b65b9aebfe6a799e6d9   \n",
       "\n",
       "   offer_received  offer_viewed  response  time  total_spending  \\\n",
       "0               1             0         0  17.0           23.22   \n",
       "1               1             1         1   0.0           37.67   \n",
       "2               1             1         1  17.0           18.42   \n",
       "3               1             1         0   7.0            0.00   \n",
       "4               1             0         0  14.0            1.14   \n",
       "\n",
       "                     channels  difficulty  offer_duration offer_type  reward  \n",
       "0  ['web', 'email', 'mobile']           5               7       bogo       5  \n",
       "1  ['web', 'email', 'mobile']           5               7       bogo       5  \n",
       "2  ['web', 'email', 'mobile']           5               7       bogo       5  \n",
       "3  ['web', 'email', 'mobile']           5               7       bogo       5  \n",
       "4  ['web', 'email', 'mobile']           5               7       bogo       5  "
      ]
     },
     "execution_count": 55,
     "metadata": {},
     "output_type": "execute_result"
    }
   ],
   "source": [
    "filename = './starbucks_merged_data.csv'\n",
    "try:\n",
    "    merged_df = pd.read_csv(filename)\n",
    "except:\n",
    "    merged_df = merged_data(portfolio, profile, offer_events, transaction_events)\n",
    "\n",
    "merged_df.head()"
   ]
  },
  {
   "cell_type": "code",
   "execution_count": 56,
   "metadata": {},
   "outputs": [],
   "source": [
    "def encode_channels(df):\n",
    "    '''\n",
    "    Encodes the channels column\n",
    "    \n",
    "    Args:\n",
    "        df: DataFrame with merged data\n",
    "    \n",
    "    Returns:\n",
    "        df: DataFrame with merged data and encoded channels\n",
    "    '''\n",
    "    dummy = df['channels'].apply(lambda x: str(x)[1:-1].replace('\\'',''))\n",
    "    dummy = dummy.str.get_dummies(sep = ', ')\n",
    "    df = pd.concat([df, dummy], axis = 1)\n",
    "    df.drop(columns = 'channels', inplace = True)\n",
    "    \n",
    "    return df"
   ]
  },
  {
   "cell_type": "code",
   "execution_count": 57,
   "metadata": {},
   "outputs": [
    {
     "data": {
      "text/html": [
       "<div>\n",
       "<style scoped>\n",
       "    .dataframe tbody tr th:only-of-type {\n",
       "        vertical-align: middle;\n",
       "    }\n",
       "\n",
       "    .dataframe tbody tr th {\n",
       "        vertical-align: top;\n",
       "    }\n",
       "\n",
       "    .dataframe thead th {\n",
       "        text-align: right;\n",
       "    }\n",
       "</style>\n",
       "<table border=\"1\" class=\"dataframe\">\n",
       "  <thead>\n",
       "    <tr style=\"text-align: right;\">\n",
       "      <th></th>\n",
       "      <th>gender</th>\n",
       "      <th>customer_id</th>\n",
       "      <th>income</th>\n",
       "      <th>income_K</th>\n",
       "      <th>age_group</th>\n",
       "      <th>member_duration</th>\n",
       "      <th>offer_completed</th>\n",
       "      <th>offer_id</th>\n",
       "      <th>offer_received</th>\n",
       "      <th>offer_viewed</th>\n",
       "      <th>...</th>\n",
       "      <th>time</th>\n",
       "      <th>total_spending</th>\n",
       "      <th>difficulty</th>\n",
       "      <th>offer_duration</th>\n",
       "      <th>offer_type</th>\n",
       "      <th>reward</th>\n",
       "      <th>email</th>\n",
       "      <th>mobile</th>\n",
       "      <th>social</th>\n",
       "      <th>web</th>\n",
       "    </tr>\n",
       "  </thead>\n",
       "  <tbody>\n",
       "    <tr>\n",
       "      <th>0</th>\n",
       "      <td>F</td>\n",
       "      <td>0610b486422d4921ae7d2bf64640c50b</td>\n",
       "      <td>112000.0</td>\n",
       "      <td>112.0</td>\n",
       "      <td>50-59</td>\n",
       "      <td>1410</td>\n",
       "      <td>1</td>\n",
       "      <td>9b98b8c7a33c4b65b9aebfe6a799e6d9</td>\n",
       "      <td>1</td>\n",
       "      <td>0</td>\n",
       "      <td>...</td>\n",
       "      <td>17.0</td>\n",
       "      <td>23.22</td>\n",
       "      <td>5</td>\n",
       "      <td>7</td>\n",
       "      <td>bogo</td>\n",
       "      <td>5</td>\n",
       "      <td>1</td>\n",
       "      <td>1</td>\n",
       "      <td>0</td>\n",
       "      <td>1</td>\n",
       "    </tr>\n",
       "    <tr>\n",
       "      <th>1</th>\n",
       "      <td>F</td>\n",
       "      <td>78afa995795e4d85b5d9ceeca43f5fef</td>\n",
       "      <td>100000.0</td>\n",
       "      <td>100.0</td>\n",
       "      <td>60+</td>\n",
       "      <td>1477</td>\n",
       "      <td>1</td>\n",
       "      <td>9b98b8c7a33c4b65b9aebfe6a799e6d9</td>\n",
       "      <td>1</td>\n",
       "      <td>1</td>\n",
       "      <td>...</td>\n",
       "      <td>0.0</td>\n",
       "      <td>37.67</td>\n",
       "      <td>5</td>\n",
       "      <td>7</td>\n",
       "      <td>bogo</td>\n",
       "      <td>5</td>\n",
       "      <td>1</td>\n",
       "      <td>1</td>\n",
       "      <td>0</td>\n",
       "      <td>1</td>\n",
       "    </tr>\n",
       "    <tr>\n",
       "      <th>2</th>\n",
       "      <td>M</td>\n",
       "      <td>e2127556f4f64592b11af22de27a7932</td>\n",
       "      <td>70000.0</td>\n",
       "      <td>70.0</td>\n",
       "      <td>60+</td>\n",
       "      <td>1125</td>\n",
       "      <td>1</td>\n",
       "      <td>9b98b8c7a33c4b65b9aebfe6a799e6d9</td>\n",
       "      <td>1</td>\n",
       "      <td>1</td>\n",
       "      <td>...</td>\n",
       "      <td>17.0</td>\n",
       "      <td>18.42</td>\n",
       "      <td>5</td>\n",
       "      <td>7</td>\n",
       "      <td>bogo</td>\n",
       "      <td>5</td>\n",
       "      <td>1</td>\n",
       "      <td>1</td>\n",
       "      <td>0</td>\n",
       "      <td>1</td>\n",
       "    </tr>\n",
       "    <tr>\n",
       "      <th>3</th>\n",
       "      <td>M</td>\n",
       "      <td>389bc3fa690240e798340f5a15918d5c</td>\n",
       "      <td>53000.0</td>\n",
       "      <td>53.0</td>\n",
       "      <td>60+</td>\n",
       "      <td>1201</td>\n",
       "      <td>1</td>\n",
       "      <td>9b98b8c7a33c4b65b9aebfe6a799e6d9</td>\n",
       "      <td>1</td>\n",
       "      <td>1</td>\n",
       "      <td>...</td>\n",
       "      <td>7.0</td>\n",
       "      <td>0.00</td>\n",
       "      <td>5</td>\n",
       "      <td>7</td>\n",
       "      <td>bogo</td>\n",
       "      <td>5</td>\n",
       "      <td>1</td>\n",
       "      <td>1</td>\n",
       "      <td>0</td>\n",
       "      <td>1</td>\n",
       "    </tr>\n",
       "    <tr>\n",
       "      <th>4</th>\n",
       "      <td>M</td>\n",
       "      <td>6445de3b47274c759400cd68131d91b4</td>\n",
       "      <td>42000.0</td>\n",
       "      <td>42.0</td>\n",
       "      <td>50-59</td>\n",
       "      <td>1241</td>\n",
       "      <td>1</td>\n",
       "      <td>9b98b8c7a33c4b65b9aebfe6a799e6d9</td>\n",
       "      <td>1</td>\n",
       "      <td>0</td>\n",
       "      <td>...</td>\n",
       "      <td>14.0</td>\n",
       "      <td>1.14</td>\n",
       "      <td>5</td>\n",
       "      <td>7</td>\n",
       "      <td>bogo</td>\n",
       "      <td>5</td>\n",
       "      <td>1</td>\n",
       "      <td>1</td>\n",
       "      <td>0</td>\n",
       "      <td>1</td>\n",
       "    </tr>\n",
       "  </tbody>\n",
       "</table>\n",
       "<p>5 rows × 21 columns</p>\n",
       "</div>"
      ],
      "text/plain": [
       "  gender                       customer_id    income  income_K age_group  \\\n",
       "0      F  0610b486422d4921ae7d2bf64640c50b  112000.0     112.0     50-59   \n",
       "1      F  78afa995795e4d85b5d9ceeca43f5fef  100000.0     100.0       60+   \n",
       "2      M  e2127556f4f64592b11af22de27a7932   70000.0      70.0       60+   \n",
       "3      M  389bc3fa690240e798340f5a15918d5c   53000.0      53.0       60+   \n",
       "4      M  6445de3b47274c759400cd68131d91b4   42000.0      42.0     50-59   \n",
       "\n",
       "   member_duration  offer_completed                          offer_id  \\\n",
       "0             1410                1  9b98b8c7a33c4b65b9aebfe6a799e6d9   \n",
       "1             1477                1  9b98b8c7a33c4b65b9aebfe6a799e6d9   \n",
       "2             1125                1  9b98b8c7a33c4b65b9aebfe6a799e6d9   \n",
       "3             1201                1  9b98b8c7a33c4b65b9aebfe6a799e6d9   \n",
       "4             1241                1  9b98b8c7a33c4b65b9aebfe6a799e6d9   \n",
       "\n",
       "   offer_received  offer_viewed ...   time  total_spending  difficulty  \\\n",
       "0               1             0 ...   17.0           23.22           5   \n",
       "1               1             1 ...    0.0           37.67           5   \n",
       "2               1             1 ...   17.0           18.42           5   \n",
       "3               1             1 ...    7.0            0.00           5   \n",
       "4               1             0 ...   14.0            1.14           5   \n",
       "\n",
       "   offer_duration  offer_type reward  email  mobile  social  web  \n",
       "0               7        bogo      5      1       1       0    1  \n",
       "1               7        bogo      5      1       1       0    1  \n",
       "2               7        bogo      5      1       1       0    1  \n",
       "3               7        bogo      5      1       1       0    1  \n",
       "4               7        bogo      5      1       1       0    1  \n",
       "\n",
       "[5 rows x 21 columns]"
      ]
     },
     "execution_count": 57,
     "metadata": {},
     "output_type": "execute_result"
    }
   ],
   "source": [
    "merged_df = encode_channels(merged_df)\n",
    "merged_df.head()"
   ]
  },
  {
   "cell_type": "code",
   "execution_count": 58,
   "metadata": {},
   "outputs": [],
   "source": [
    "merged_df['income_group'] = pd.cut(merged_df['income'], bins=range(30000,140000,10000), right=False,\\\n",
    "                                    labels=['30s','40s', '50s', '60s', '70s','80s', '90s',\\\n",
    "                                            '100s', '110s', '120s'])\n",
    "merged_df.drop(columns = ['income', 'income_K'], inplace = True)"
   ]
  },
  {
   "cell_type": "code",
   "execution_count": 59,
   "metadata": {},
   "outputs": [
    {
     "data": {
      "text/plain": [
       "50s     10002\n",
       "60s      8651\n",
       "70s      8637\n",
       "30s      7253\n",
       "40s      6823\n",
       "80s      5257\n",
       "90s      4495\n",
       "100s     2162\n",
       "110s     1889\n",
       "120s       53\n",
       "Name: income_group, dtype: int64"
      ]
     },
     "execution_count": 59,
     "metadata": {},
     "output_type": "execute_result"
    }
   ],
   "source": [
    "merged_df['income_group'].value_counts()"
   ]
  },
  {
   "cell_type": "code",
   "execution_count": 60,
   "metadata": {},
   "outputs": [],
   "source": [
    "def encode(df):\n",
    "    '''\n",
    "    Function to encode categorical variables in the dataframe\n",
    "    \n",
    "    Args:\n",
    "        df: DataFrame with data\n",
    "        \n",
    "    Returns:\n",
    "        df: DataFrame with encoded variables\n",
    "    '''\n",
    "    cols = ['gender', 'age_group', 'income_group','offer_type']\n",
    "    df = pd.get_dummies(df, columns = cols)\n",
    "    \n",
    "    return df"
   ]
  },
  {
   "cell_type": "code",
   "execution_count": 61,
   "metadata": {},
   "outputs": [],
   "source": [
    "merged_df = encode(merged_df)"
   ]
  },
  {
   "cell_type": "code",
   "execution_count": 62,
   "metadata": {
    "scrolled": false
   },
   "outputs": [
    {
     "data": {
      "text/plain": [
       "customer_id                 0\n",
       "member_duration             0\n",
       "offer_completed             0\n",
       "offer_id                    0\n",
       "offer_received              0\n",
       "offer_viewed                0\n",
       "response                    0\n",
       "time                        0\n",
       "total_spending              0\n",
       "difficulty                  0\n",
       "offer_duration              0\n",
       "reward                      0\n",
       "email                       0\n",
       "mobile                      0\n",
       "social                      0\n",
       "web                         0\n",
       "gender_F                    0\n",
       "gender_M                    0\n",
       "gender_O                    0\n",
       "age_group_20-29             0\n",
       "age_group_30-39             0\n",
       "age_group_40-49             0\n",
       "age_group_50-59             0\n",
       "age_group_60+               0\n",
       "age_group_Under 20          0\n",
       "income_group_30s            0\n",
       "income_group_40s            0\n",
       "income_group_50s            0\n",
       "income_group_60s            0\n",
       "income_group_70s            0\n",
       "income_group_80s            0\n",
       "income_group_90s            0\n",
       "income_group_100s           0\n",
       "income_group_110s           0\n",
       "income_group_120s           0\n",
       "offer_type_bogo             0\n",
       "offer_type_discount         0\n",
       "offer_type_informational    0\n",
       "dtype: int64"
      ]
     },
     "execution_count": 62,
     "metadata": {},
     "output_type": "execute_result"
    }
   ],
   "source": [
    "merged_df.isnull().sum()"
   ]
  },
  {
   "cell_type": "markdown",
   "metadata": {},
   "source": [
    "**Great! No null values, just double checking. Since we already used offer_received, offer_viewed and offer_completed to output a response label, we can drop these columns. Otherwise, these three columns will affect the model and act as a driving feature.**"
   ]
  },
  {
   "cell_type": "code",
   "execution_count": 63,
   "metadata": {},
   "outputs": [],
   "source": [
    "merged_df.drop(columns = ['offer_received', 'offer_viewed', 'offer_completed'], inplace = True)"
   ]
  },
  {
   "cell_type": "code",
   "execution_count": 64,
   "metadata": {},
   "outputs": [
    {
     "data": {
      "text/plain": [
       "(55222, 35)"
      ]
     },
     "execution_count": 64,
     "metadata": {},
     "output_type": "execute_result"
    }
   ],
   "source": [
    "merged_df.shape"
   ]
  },
  {
   "cell_type": "markdown",
   "metadata": {},
   "source": [
    "### Split Data into Training and Test Data <a id = \"split-train-test\"></a>"
   ]
  },
  {
   "cell_type": "code",
   "execution_count": 65,
   "metadata": {},
   "outputs": [],
   "source": [
    "X = merged_df.drop(columns = ['customer_id', 'offer_id', 'response'])\n",
    "y = merged_df['response']"
   ]
  },
  {
   "cell_type": "code",
   "execution_count": 66,
   "metadata": {},
   "outputs": [
    {
     "name": "stdout",
     "output_type": "stream",
     "text": [
      "X: (55222, 32)\n",
      "y: (55222,)\n"
     ]
    }
   ],
   "source": [
    "print('X:', X.shape)\n",
    "print('y:', y.shape)"
   ]
  },
  {
   "cell_type": "code",
   "execution_count": 67,
   "metadata": {},
   "outputs": [],
   "source": [
    "# Split features and labels into train & test set\n",
    "X_train, X_test, y_train, y_test = train_test_split(X, y, test_size=0.33, random_state=42)"
   ]
  },
  {
   "cell_type": "code",
   "execution_count": 68,
   "metadata": {},
   "outputs": [
    {
     "name": "stdout",
     "output_type": "stream",
     "text": [
      "(36998, 32)\n",
      "(18224, 32)\n"
     ]
    }
   ],
   "source": [
    "print(X_train.shape)\n",
    "print(X_test.shape)"
   ]
  },
  {
   "cell_type": "code",
   "execution_count": 69,
   "metadata": {},
   "outputs": [
    {
     "data": {
      "text/html": [
       "<div>\n",
       "<style scoped>\n",
       "    .dataframe tbody tr th:only-of-type {\n",
       "        vertical-align: middle;\n",
       "    }\n",
       "\n",
       "    .dataframe tbody tr th {\n",
       "        vertical-align: top;\n",
       "    }\n",
       "\n",
       "    .dataframe thead th {\n",
       "        text-align: right;\n",
       "    }\n",
       "</style>\n",
       "<table border=\"1\" class=\"dataframe\">\n",
       "  <thead>\n",
       "    <tr style=\"text-align: right;\">\n",
       "      <th></th>\n",
       "      <th>member_duration</th>\n",
       "      <th>time</th>\n",
       "      <th>total_spending</th>\n",
       "      <th>difficulty</th>\n",
       "      <th>offer_duration</th>\n",
       "      <th>reward</th>\n",
       "      <th>email</th>\n",
       "      <th>mobile</th>\n",
       "      <th>social</th>\n",
       "      <th>web</th>\n",
       "      <th>...</th>\n",
       "      <th>income_group_60s</th>\n",
       "      <th>income_group_70s</th>\n",
       "      <th>income_group_80s</th>\n",
       "      <th>income_group_90s</th>\n",
       "      <th>income_group_100s</th>\n",
       "      <th>income_group_110s</th>\n",
       "      <th>income_group_120s</th>\n",
       "      <th>offer_type_bogo</th>\n",
       "      <th>offer_type_discount</th>\n",
       "      <th>offer_type_informational</th>\n",
       "    </tr>\n",
       "  </thead>\n",
       "  <tbody>\n",
       "    <tr>\n",
       "      <th>23882</th>\n",
       "      <td>1682</td>\n",
       "      <td>17.0</td>\n",
       "      <td>25.17</td>\n",
       "      <td>0</td>\n",
       "      <td>3</td>\n",
       "      <td>0</td>\n",
       "      <td>1</td>\n",
       "      <td>1</td>\n",
       "      <td>1</td>\n",
       "      <td>0</td>\n",
       "      <td>...</td>\n",
       "      <td>0</td>\n",
       "      <td>0</td>\n",
       "      <td>0</td>\n",
       "      <td>1</td>\n",
       "      <td>0</td>\n",
       "      <td>0</td>\n",
       "      <td>0</td>\n",
       "      <td>0</td>\n",
       "      <td>0</td>\n",
       "      <td>1</td>\n",
       "    </tr>\n",
       "    <tr>\n",
       "      <th>4412</th>\n",
       "      <td>1959</td>\n",
       "      <td>17.0</td>\n",
       "      <td>24.50</td>\n",
       "      <td>5</td>\n",
       "      <td>7</td>\n",
       "      <td>5</td>\n",
       "      <td>1</td>\n",
       "      <td>1</td>\n",
       "      <td>0</td>\n",
       "      <td>1</td>\n",
       "      <td>...</td>\n",
       "      <td>0</td>\n",
       "      <td>1</td>\n",
       "      <td>0</td>\n",
       "      <td>0</td>\n",
       "      <td>0</td>\n",
       "      <td>0</td>\n",
       "      <td>0</td>\n",
       "      <td>1</td>\n",
       "      <td>0</td>\n",
       "      <td>0</td>\n",
       "    </tr>\n",
       "    <tr>\n",
       "      <th>50491</th>\n",
       "      <td>1664</td>\n",
       "      <td>21.0</td>\n",
       "      <td>34.32</td>\n",
       "      <td>10</td>\n",
       "      <td>5</td>\n",
       "      <td>10</td>\n",
       "      <td>1</td>\n",
       "      <td>1</td>\n",
       "      <td>1</td>\n",
       "      <td>1</td>\n",
       "      <td>...</td>\n",
       "      <td>0</td>\n",
       "      <td>1</td>\n",
       "      <td>0</td>\n",
       "      <td>0</td>\n",
       "      <td>0</td>\n",
       "      <td>0</td>\n",
       "      <td>0</td>\n",
       "      <td>1</td>\n",
       "      <td>0</td>\n",
       "      <td>0</td>\n",
       "    </tr>\n",
       "    <tr>\n",
       "      <th>45343</th>\n",
       "      <td>1171</td>\n",
       "      <td>21.0</td>\n",
       "      <td>19.21</td>\n",
       "      <td>20</td>\n",
       "      <td>10</td>\n",
       "      <td>5</td>\n",
       "      <td>1</td>\n",
       "      <td>0</td>\n",
       "      <td>0</td>\n",
       "      <td>1</td>\n",
       "      <td>...</td>\n",
       "      <td>0</td>\n",
       "      <td>1</td>\n",
       "      <td>0</td>\n",
       "      <td>0</td>\n",
       "      <td>0</td>\n",
       "      <td>0</td>\n",
       "      <td>0</td>\n",
       "      <td>0</td>\n",
       "      <td>1</td>\n",
       "      <td>0</td>\n",
       "    </tr>\n",
       "    <tr>\n",
       "      <th>16156</th>\n",
       "      <td>1609</td>\n",
       "      <td>7.0</td>\n",
       "      <td>750.25</td>\n",
       "      <td>5</td>\n",
       "      <td>5</td>\n",
       "      <td>5</td>\n",
       "      <td>1</td>\n",
       "      <td>1</td>\n",
       "      <td>1</td>\n",
       "      <td>1</td>\n",
       "      <td>...</td>\n",
       "      <td>0</td>\n",
       "      <td>0</td>\n",
       "      <td>1</td>\n",
       "      <td>0</td>\n",
       "      <td>0</td>\n",
       "      <td>0</td>\n",
       "      <td>0</td>\n",
       "      <td>1</td>\n",
       "      <td>0</td>\n",
       "      <td>0</td>\n",
       "    </tr>\n",
       "  </tbody>\n",
       "</table>\n",
       "<p>5 rows × 32 columns</p>\n",
       "</div>"
      ],
      "text/plain": [
       "       member_duration  time  total_spending  difficulty  offer_duration  \\\n",
       "23882             1682  17.0           25.17           0               3   \n",
       "4412              1959  17.0           24.50           5               7   \n",
       "50491             1664  21.0           34.32          10               5   \n",
       "45343             1171  21.0           19.21          20              10   \n",
       "16156             1609   7.0          750.25           5               5   \n",
       "\n",
       "       reward  email  mobile  social  web            ...             \\\n",
       "23882       0      1       1       1    0            ...              \n",
       "4412        5      1       1       0    1            ...              \n",
       "50491      10      1       1       1    1            ...              \n",
       "45343       5      1       0       0    1            ...              \n",
       "16156       5      1       1       1    1            ...              \n",
       "\n",
       "       income_group_60s  income_group_70s  income_group_80s  income_group_90s  \\\n",
       "23882                 0                 0                 0                 1   \n",
       "4412                  0                 1                 0                 0   \n",
       "50491                 0                 1                 0                 0   \n",
       "45343                 0                 1                 0                 0   \n",
       "16156                 0                 0                 1                 0   \n",
       "\n",
       "       income_group_100s  income_group_110s  income_group_120s  \\\n",
       "23882                  0                  0                  0   \n",
       "4412                   0                  0                  0   \n",
       "50491                  0                  0                  0   \n",
       "45343                  0                  0                  0   \n",
       "16156                  0                  0                  0   \n",
       "\n",
       "       offer_type_bogo  offer_type_discount  offer_type_informational  \n",
       "23882                0                    0                         1  \n",
       "4412                 1                    0                         0  \n",
       "50491                1                    0                         0  \n",
       "45343                0                    1                         0  \n",
       "16156                1                    0                         0  \n",
       "\n",
       "[5 rows x 32 columns]"
      ]
     },
     "execution_count": 69,
     "metadata": {},
     "output_type": "execute_result"
    }
   ],
   "source": [
    "X_train.head()"
   ]
  },
  {
   "cell_type": "code",
   "execution_count": 70,
   "metadata": {},
   "outputs": [
    {
     "name": "stdout",
     "output_type": "stream",
     "text": [
      "<class 'pandas.core.frame.DataFrame'>\n",
      "Int64Index: 36998 entries, 23882 to 15795\n",
      "Data columns (total 32 columns):\n",
      "member_duration             36998 non-null int64\n",
      "time                        36998 non-null float64\n",
      "total_spending              36998 non-null float64\n",
      "difficulty                  36998 non-null int64\n",
      "offer_duration              36998 non-null int64\n",
      "reward                      36998 non-null int64\n",
      "email                       36998 non-null int64\n",
      "mobile                      36998 non-null int64\n",
      "social                      36998 non-null int64\n",
      "web                         36998 non-null int64\n",
      "gender_F                    36998 non-null uint8\n",
      "gender_M                    36998 non-null uint8\n",
      "gender_O                    36998 non-null uint8\n",
      "age_group_20-29             36998 non-null uint8\n",
      "age_group_30-39             36998 non-null uint8\n",
      "age_group_40-49             36998 non-null uint8\n",
      "age_group_50-59             36998 non-null uint8\n",
      "age_group_60+               36998 non-null uint8\n",
      "age_group_Under 20          36998 non-null uint8\n",
      "income_group_30s            36998 non-null uint8\n",
      "income_group_40s            36998 non-null uint8\n",
      "income_group_50s            36998 non-null uint8\n",
      "income_group_60s            36998 non-null uint8\n",
      "income_group_70s            36998 non-null uint8\n",
      "income_group_80s            36998 non-null uint8\n",
      "income_group_90s            36998 non-null uint8\n",
      "income_group_100s           36998 non-null uint8\n",
      "income_group_110s           36998 non-null uint8\n",
      "income_group_120s           36998 non-null uint8\n",
      "offer_type_bogo             36998 non-null uint8\n",
      "offer_type_discount         36998 non-null uint8\n",
      "offer_type_informational    36998 non-null uint8\n",
      "dtypes: float64(2), int64(8), uint8(22)\n",
      "memory usage: 3.9 MB\n"
     ]
    }
   ],
   "source": [
    "X_train.info()"
   ]
  },
  {
   "cell_type": "markdown",
   "metadata": {},
   "source": [
    "# 3. Modeling <a id = \"modeling\"></a>"
   ]
  },
  {
   "cell_type": "markdown",
   "metadata": {},
   "source": [
    "**We will first create a baseline model to compare with our model to determine which model performs the best.**"
   ]
  },
  {
   "cell_type": "code",
   "execution_count": 71,
   "metadata": {},
   "outputs": [],
   "source": [
    "def build_model(clf):\n",
    "    \"\"\"\n",
    "    Return train and test F1 score along with the model name\n",
    "       \n",
    "    Args:\n",
    "        clf: Estimator\n",
    "    \n",
    "    Returns:\n",
    "        train_acc: Float. Training data accuracy\n",
    "        test_acc: Float. Testing data accuracy\n",
    "        model_name: String. model name\n",
    "       \n",
    "    \"\"\"\n",
    "    model = clf.fit(X_train, y_train)\n",
    "    train_pred =  model.predict(X_train)\n",
    "    test_pred = model.predict(X_test)\n",
    "    train_acc =  accuracy_score(y_train, train_pred)\n",
    "    test_acc= accuracy_score(y_test, test_pred)\n",
    "    model_name = clf.__class__.__name__\n",
    "    \n",
    "    print('Model Name:', model_name)\n",
    "    print('Train', classification_report(y_train, train_pred))\n",
    "    print('Test', classification_report(y_test, test_pred))\n",
    "    print('-' * 40)\n",
    "    \n",
    "    return train_acc, test_acc, model_name"
   ]
  },
  {
   "cell_type": "code",
   "execution_count": 72,
   "metadata": {},
   "outputs": [
    {
     "name": "stdout",
     "output_type": "stream",
     "text": [
      "Model Name: KNeighborsClassifier\n",
      "Train              precision    recall  f1-score   support\n",
      "\n",
      "          0       0.91      0.84      0.87     18016\n",
      "          1       0.86      0.92      0.89     18982\n",
      "\n",
      "avg / total       0.88      0.88      0.88     36998\n",
      "\n",
      "Test              precision    recall  f1-score   support\n",
      "\n",
      "          0       0.87      0.80      0.83      8998\n",
      "          1       0.82      0.88      0.85      9226\n",
      "\n",
      "avg / total       0.84      0.84      0.84     18224\n",
      "\n",
      "----------------------------------------\n"
     ]
    }
   ],
   "source": [
    "knn = KNeighborsClassifier(n_neighbors = 5)\n",
    "knn_train, knn_test, knn_name = build_model(knn)"
   ]
  },
  {
   "cell_type": "markdown",
   "metadata": {},
   "source": [
    "**Now we will find the best model.**"
   ]
  },
  {
   "cell_type": "markdown",
   "metadata": {},
   "source": [
    "**Cross validating with KFolds.**"
   ]
  },
  {
   "cell_type": "code",
   "execution_count": 73,
   "metadata": {},
   "outputs": [],
   "source": [
    "def cross_val_models(model, X_train, y_train):\n",
    "    #seed for random state and splits - number of Kfolds\n",
    "    random_seed = 1\n",
    "    splits = 5\n",
    "\n",
    "    #Scikit Kfold model call\n",
    "    kfold = KFold(n_splits=splits, random_state=random_seed)\n",
    "\n",
    "    #results set equal to model with kfolds\n",
    "    results = cross_val_score(model, X_train, y_train, cv = kfold)\n",
    "\n",
    "    #printing the averaged score over the 5 Kfolds\n",
    "    print(\"Model:\", model.__class__.__name__)\n",
    "    print(\"Accuracy: %.3f%% (%.3f%%)\" % (results.mean()*100.0, results.std()*100.0))"
   ]
  },
  {
   "cell_type": "code",
   "execution_count": 74,
   "metadata": {},
   "outputs": [
    {
     "name": "stdout",
     "output_type": "stream",
     "text": [
      "Model: RandomForestClassifier\n",
      "Accuracy: 86.910% (0.437%)\n",
      "----------------------------------------\n",
      "Model: AdaBoostClassifier\n",
      "Accuracy: 86.570% (0.457%)\n",
      "----------------------------------------\n",
      "Model: LogisticRegression\n",
      "Accuracy: 83.145% (0.494%)\n",
      "----------------------------------------\n"
     ]
    }
   ],
   "source": [
    "rfc = RandomForestClassifier()\n",
    "abc = AdaBoostClassifier()\n",
    "logreg = LogisticRegression()\n",
    "\n",
    "model_lst = [rfc, abc, logreg]\n",
    "\n",
    "for m in model_lst:\n",
    "    cross_val_models(m, X_train, y_train)\n",
    "    print('-' * 40)"
   ]
  },
  {
   "cell_type": "markdown",
   "metadata": {},
   "source": [
    "**Seems like RandomForestClassifier has the highest cross validation accuracy of 86.91%.**"
   ]
  },
  {
   "cell_type": "markdown",
   "metadata": {},
   "source": [
    "### A. Tuning Model <a id = \"tuning\"></a>"
   ]
  },
  {
   "cell_type": "markdown",
   "metadata": {},
   "source": [
    "**We will use GridSearchCV to fine tune.**"
   ]
  },
  {
   "cell_type": "code",
   "execution_count": 75,
   "metadata": {
    "scrolled": true
   },
   "outputs": [
    {
     "name": "stdout",
     "output_type": "stream",
     "text": [
      "{'max_depth': 15, 'max_features': 10, 'min_samples_split': 10, 'n_estimators': 100}\n",
      "Score after tuning: 92.88\n"
     ]
    }
   ],
   "source": [
    "param_grid = {\n",
    "    'min_samples_split': [3, 5, 10], \n",
    "    'n_estimators' : [100, 300],\n",
    "    'max_depth': [3, 5, 15, 25],\n",
    "    'max_features': [3, 5, 10, 20]\n",
    "}\n",
    "\n",
    "cv = GridSearchCV(estimator = rfc, param_grid = param_grid, cv = 3, n_jobs = -1)\n",
    "\n",
    "cv.fit(X_train, y_train)\n",
    "\n",
    "print(cv.best_params_)\n",
    "print('Score after tuning:', round(cv.score(X_train, y_train)*100,2))"
   ]
  },
  {
   "cell_type": "markdown",
   "metadata": {},
   "source": [
    "**As we can see, after tuning the model achieved an accuracy of 92.88%.**"
   ]
  },
  {
   "cell_type": "markdown",
   "metadata": {},
   "source": [
    "### B. Feature Importance <a id = \"feat-imp\"></a>"
   ]
  },
  {
   "cell_type": "code",
   "execution_count": 76,
   "metadata": {},
   "outputs": [
    {
     "name": "stdout",
     "output_type": "stream",
     "text": [
      "[  7.90166075e-02   1.79420447e-02   6.70559244e-01   3.42503160e-02\n",
      "   2.41703379e-02   2.13843418e-02   0.00000000e+00   1.33512951e-02\n",
      "   4.33675659e-02   7.01509853e-03   5.10995608e-03   5.09436148e-03\n",
      "   9.01221200e-04   4.89373912e-03   3.33475384e-03   4.77738199e-03\n",
      "   3.47273771e-03   3.64607778e-03   1.64965632e-03   8.11025456e-03\n",
      "   6.49973162e-03   3.55582823e-03   3.34972119e-03   2.88816123e-03\n",
      "   3.44920236e-03   2.48992839e-03   3.78614200e-03   3.45606350e-03\n",
      "   2.89739954e-04   6.06729629e-03   5.22264915e-03   6.89854447e-03]\n"
     ]
    }
   ],
   "source": [
    "print(cv.best_estimator_.feature_importances_)"
   ]
  },
  {
   "cell_type": "code",
   "execution_count": 77,
   "metadata": {},
   "outputs": [],
   "source": [
    "feat_imp = pd.DataFrame(cv.best_estimator_.feature_importances_, index = list(X_train.columns),\\\n",
    "                       columns = ['feature_importance']).reset_index()\n",
    "feat_imp.rename(columns = {'index': 'feature'}, inplace = True)\n",
    "feat_imp = feat_imp.sort_values(by = 'feature_importance', ascending = False).reset_index(drop = True)"
   ]
  },
  {
   "cell_type": "code",
   "execution_count": 78,
   "metadata": {},
   "outputs": [
    {
     "data": {
      "text/html": [
       "<div>\n",
       "<style scoped>\n",
       "    .dataframe tbody tr th:only-of-type {\n",
       "        vertical-align: middle;\n",
       "    }\n",
       "\n",
       "    .dataframe tbody tr th {\n",
       "        vertical-align: top;\n",
       "    }\n",
       "\n",
       "    .dataframe thead th {\n",
       "        text-align: right;\n",
       "    }\n",
       "</style>\n",
       "<table border=\"1\" class=\"dataframe\">\n",
       "  <thead>\n",
       "    <tr style=\"text-align: right;\">\n",
       "      <th></th>\n",
       "      <th>feature</th>\n",
       "      <th>feature_importance</th>\n",
       "    </tr>\n",
       "  </thead>\n",
       "  <tbody>\n",
       "    <tr>\n",
       "      <th>0</th>\n",
       "      <td>total_spending</td>\n",
       "      <td>0.670559</td>\n",
       "    </tr>\n",
       "    <tr>\n",
       "      <th>1</th>\n",
       "      <td>member_duration</td>\n",
       "      <td>0.079017</td>\n",
       "    </tr>\n",
       "    <tr>\n",
       "      <th>2</th>\n",
       "      <td>social</td>\n",
       "      <td>0.043368</td>\n",
       "    </tr>\n",
       "    <tr>\n",
       "      <th>3</th>\n",
       "      <td>difficulty</td>\n",
       "      <td>0.034250</td>\n",
       "    </tr>\n",
       "    <tr>\n",
       "      <th>4</th>\n",
       "      <td>offer_duration</td>\n",
       "      <td>0.024170</td>\n",
       "    </tr>\n",
       "  </tbody>\n",
       "</table>\n",
       "</div>"
      ],
      "text/plain": [
       "           feature  feature_importance\n",
       "0   total_spending            0.670559\n",
       "1  member_duration            0.079017\n",
       "2           social            0.043368\n",
       "3       difficulty            0.034250\n",
       "4   offer_duration            0.024170"
      ]
     },
     "execution_count": 78,
     "metadata": {},
     "output_type": "execute_result"
    }
   ],
   "source": [
    "feat_imp.head()"
   ]
  },
  {
   "cell_type": "code",
   "execution_count": 85,
   "metadata": {},
   "outputs": [
    {
     "data": {
      "image/png": "[encoded data removed]",
      "text/plain": [
       "<matplotlib.figure.Figure at 0x7fe40b34b668>"
      ]
     },
     "metadata": {
      "needs_background": "light"
     },
     "output_type": "display_data"
    }
   ],
   "source": [
    "plt.figure(figsize = (6,12))\n",
    "sns.barplot(data = feat_imp, y = 'feature', x = 'feature_importance')\n",
    "plt.title('Feature Importance')\n",
    "plt.show()"
   ]
  },
  {
   "cell_type": "markdown",
   "metadata": {},
   "source": [
    "- **From the above graph, we can see that how much a customer spends is the biggest influencer on whether or not they respond to an offer. By predicting and understanding how much a customer spends will boost offer response rate.**\n",
    "\n",
    "- **Membership duration (how long a customer has been a Starbucks Member) can also influence offer response. Long term members have experienced these types of offers in the past. Thus, they understand how they work and which ones are worth it. For a BOGO offer, the customer may save it for when they need to purchase more than one cup (with a companion) or if there was a popular promotional drink.**\n",
    "\n",
    "- **How offers are delivered to customers can also influence a customer's response. So assigning more quota to one medium may boost response rates.**\n",
    "\n",
    "- **Difficulty corresponds to how much a customer needs to spend in order to be able to use an offer. This can correlate to how much a customer spends. If difficulty is high and the offer is given to someone who does not spend a lot, then they are less likely to respond.**\n",
    "\n",
    "- **Duration is how long an offer lasts, given more leeway in when they need to use an offer by can boost response rates. When an offer lasts longer there are more chances for a customer to have some occasion where they will go to Starbucks to make a purchase.**"
   ]
  },
  {
   "cell_type": "markdown",
   "metadata": {},
   "source": [
    "### Predicting Test Data <a id = \"predict-test\"></a>"
   ]
  },
  {
   "cell_type": "code",
   "execution_count": 80,
   "metadata": {},
   "outputs": [
    {
     "data": {
      "text/plain": [
       "(18224, 32)"
      ]
     },
     "execution_count": 80,
     "metadata": {},
     "output_type": "execute_result"
    }
   ],
   "source": [
    "X_test.shape"
   ]
  },
  {
   "cell_type": "code",
   "execution_count": 81,
   "metadata": {},
   "outputs": [
    {
     "data": {
      "text/plain": [
       "(18224,)"
      ]
     },
     "execution_count": 81,
     "metadata": {},
     "output_type": "execute_result"
    }
   ],
   "source": [
    "y_test.shape"
   ]
  },
  {
   "cell_type": "code",
   "execution_count": 82,
   "metadata": {},
   "outputs": [
    {
     "data": {
      "text/html": [
       "<div>\n",
       "<style scoped>\n",
       "    .dataframe tbody tr th:only-of-type {\n",
       "        vertical-align: middle;\n",
       "    }\n",
       "\n",
       "    .dataframe tbody tr th {\n",
       "        vertical-align: top;\n",
       "    }\n",
       "\n",
       "    .dataframe thead th {\n",
       "        text-align: right;\n",
       "    }\n",
       "</style>\n",
       "<table border=\"1\" class=\"dataframe\">\n",
       "  <thead>\n",
       "    <tr style=\"text-align: right;\">\n",
       "      <th></th>\n",
       "      <th>member_duration</th>\n",
       "      <th>time</th>\n",
       "      <th>total_spending</th>\n",
       "      <th>difficulty</th>\n",
       "      <th>offer_duration</th>\n",
       "      <th>reward</th>\n",
       "      <th>email</th>\n",
       "      <th>mobile</th>\n",
       "      <th>social</th>\n",
       "      <th>web</th>\n",
       "      <th>...</th>\n",
       "      <th>income_group_60s</th>\n",
       "      <th>income_group_70s</th>\n",
       "      <th>income_group_80s</th>\n",
       "      <th>income_group_90s</th>\n",
       "      <th>income_group_100s</th>\n",
       "      <th>income_group_110s</th>\n",
       "      <th>income_group_120s</th>\n",
       "      <th>offer_type_bogo</th>\n",
       "      <th>offer_type_discount</th>\n",
       "      <th>offer_type_informational</th>\n",
       "    </tr>\n",
       "  </thead>\n",
       "  <tbody>\n",
       "    <tr>\n",
       "      <th>31224</th>\n",
       "      <td>1256</td>\n",
       "      <td>0.0</td>\n",
       "      <td>72.86</td>\n",
       "      <td>10</td>\n",
       "      <td>7</td>\n",
       "      <td>2</td>\n",
       "      <td>1</td>\n",
       "      <td>1</td>\n",
       "      <td>0</td>\n",
       "      <td>1</td>\n",
       "      <td>...</td>\n",
       "      <td>1</td>\n",
       "      <td>0</td>\n",
       "      <td>0</td>\n",
       "      <td>0</td>\n",
       "      <td>0</td>\n",
       "      <td>0</td>\n",
       "      <td>0</td>\n",
       "      <td>0</td>\n",
       "      <td>1</td>\n",
       "      <td>0</td>\n",
       "    </tr>\n",
       "    <tr>\n",
       "      <th>17802</th>\n",
       "      <td>1642</td>\n",
       "      <td>7.0</td>\n",
       "      <td>25.62</td>\n",
       "      <td>10</td>\n",
       "      <td>7</td>\n",
       "      <td>10</td>\n",
       "      <td>1</td>\n",
       "      <td>1</td>\n",
       "      <td>1</td>\n",
       "      <td>0</td>\n",
       "      <td>...</td>\n",
       "      <td>0</td>\n",
       "      <td>0</td>\n",
       "      <td>0</td>\n",
       "      <td>1</td>\n",
       "      <td>0</td>\n",
       "      <td>0</td>\n",
       "      <td>0</td>\n",
       "      <td>1</td>\n",
       "      <td>0</td>\n",
       "      <td>0</td>\n",
       "    </tr>\n",
       "    <tr>\n",
       "      <th>3156</th>\n",
       "      <td>1795</td>\n",
       "      <td>14.0</td>\n",
       "      <td>11.67</td>\n",
       "      <td>5</td>\n",
       "      <td>7</td>\n",
       "      <td>5</td>\n",
       "      <td>1</td>\n",
       "      <td>1</td>\n",
       "      <td>0</td>\n",
       "      <td>1</td>\n",
       "      <td>...</td>\n",
       "      <td>1</td>\n",
       "      <td>0</td>\n",
       "      <td>0</td>\n",
       "      <td>0</td>\n",
       "      <td>0</td>\n",
       "      <td>0</td>\n",
       "      <td>0</td>\n",
       "      <td>1</td>\n",
       "      <td>0</td>\n",
       "      <td>0</td>\n",
       "    </tr>\n",
       "    <tr>\n",
       "      <th>1566</th>\n",
       "      <td>1538</td>\n",
       "      <td>14.0</td>\n",
       "      <td>76.31</td>\n",
       "      <td>5</td>\n",
       "      <td>7</td>\n",
       "      <td>5</td>\n",
       "      <td>1</td>\n",
       "      <td>1</td>\n",
       "      <td>0</td>\n",
       "      <td>1</td>\n",
       "      <td>...</td>\n",
       "      <td>0</td>\n",
       "      <td>0</td>\n",
       "      <td>0</td>\n",
       "      <td>0</td>\n",
       "      <td>0</td>\n",
       "      <td>0</td>\n",
       "      <td>0</td>\n",
       "      <td>1</td>\n",
       "      <td>0</td>\n",
       "      <td>0</td>\n",
       "    </tr>\n",
       "    <tr>\n",
       "      <th>45398</th>\n",
       "      <td>1038</td>\n",
       "      <td>24.0</td>\n",
       "      <td>0.00</td>\n",
       "      <td>20</td>\n",
       "      <td>10</td>\n",
       "      <td>5</td>\n",
       "      <td>1</td>\n",
       "      <td>0</td>\n",
       "      <td>0</td>\n",
       "      <td>1</td>\n",
       "      <td>...</td>\n",
       "      <td>0</td>\n",
       "      <td>1</td>\n",
       "      <td>0</td>\n",
       "      <td>0</td>\n",
       "      <td>0</td>\n",
       "      <td>0</td>\n",
       "      <td>0</td>\n",
       "      <td>0</td>\n",
       "      <td>1</td>\n",
       "      <td>0</td>\n",
       "    </tr>\n",
       "  </tbody>\n",
       "</table>\n",
       "<p>5 rows × 32 columns</p>\n",
       "</div>"
      ],
      "text/plain": [
       "       member_duration  time  total_spending  difficulty  offer_duration  \\\n",
       "31224             1256   0.0           72.86          10               7   \n",
       "17802             1642   7.0           25.62          10               7   \n",
       "3156              1795  14.0           11.67           5               7   \n",
       "1566              1538  14.0           76.31           5               7   \n",
       "45398             1038  24.0            0.00          20              10   \n",
       "\n",
       "       reward  email  mobile  social  web            ...             \\\n",
       "31224       2      1       1       0    1            ...              \n",
       "17802      10      1       1       1    0            ...              \n",
       "3156        5      1       1       0    1            ...              \n",
       "1566        5      1       1       0    1            ...              \n",
       "45398       5      1       0       0    1            ...              \n",
       "\n",
       "       income_group_60s  income_group_70s  income_group_80s  income_group_90s  \\\n",
       "31224                 1                 0                 0                 0   \n",
       "17802                 0                 0                 0                 1   \n",
       "3156                  1                 0                 0                 0   \n",
       "1566                  0                 0                 0                 0   \n",
       "45398                 0                 1                 0                 0   \n",
       "\n",
       "       income_group_100s  income_group_110s  income_group_120s  \\\n",
       "31224                  0                  0                  0   \n",
       "17802                  0                  0                  0   \n",
       "3156                   0                  0                  0   \n",
       "1566                   0                  0                  0   \n",
       "45398                  0                  0                  0   \n",
       "\n",
       "       offer_type_bogo  offer_type_discount  offer_type_informational  \n",
       "31224                0                    1                         0  \n",
       "17802                1                    0                         0  \n",
       "3156                 1                    0                         0  \n",
       "1566                 1                    0                         0  \n",
       "45398                0                    1                         0  \n",
       "\n",
       "[5 rows x 32 columns]"
      ]
     },
     "execution_count": 82,
     "metadata": {},
     "output_type": "execute_result"
    }
   ],
   "source": [
    "X_test.head()"
   ]
  },
  {
   "cell_type": "code",
   "execution_count": 83,
   "metadata": {},
   "outputs": [
    {
     "name": "stdout",
     "output_type": "stream",
     "text": [
      "[1 1 0 ..., 0 1 0]\n",
      "(18224,)\n"
     ]
    }
   ],
   "source": [
    "y_pred = cv.predict(X_test)\n",
    "print(y_pred)\n",
    "print(y_pred.shape)"
   ]
  },
  {
   "cell_type": "code",
   "execution_count": 84,
   "metadata": {},
   "outputs": [
    {
     "data": {
      "text/plain": [
       "0.8895961369622476"
      ]
     },
     "execution_count": 84,
     "metadata": {},
     "output_type": "execute_result"
    }
   ],
   "source": [
    "accuracy_score(y_test, y_pred)"
   ]
  },
  {
   "cell_type": "markdown",
   "metadata": {},
   "source": [
    "**We achieved 89% accuracy using the tuned RandomForestClassifier!**"
   ]
  },
  {
   "cell_type": "markdown",
   "metadata": {},
   "source": [
    "# 4. Reflection <a id = \"reflection\"></a>"
   ]
  },
  {
   "cell_type": "markdown",
   "metadata": {},
   "source": [
    "This was a very enjoyable project , which incorporated three different datasets. I mainly chose this project because I am an avid visitor to Starbucks and worked at one of the stores for 1.5 years. Whenever I receive an offer, I become particularly excited as it signifies a new promotion and can save me some money (despite not going saves even more).\n",
    "\n",
    "Looking at the datasets reminded me of a database where each id column is a primary key. Each dataset provides different insights and these insights influenced which features to use for the model. Cleaning the data and figuring out which features to use was fairly quick. The main challenge was merging all the datasets into one while figuring out whether or not a customer responded to an offer."
   ]
  },
  {
   "cell_type": "markdown",
   "metadata": {},
   "source": [
    "# 5. Improvements <a id = \"improve\"></a>"
   ]
  },
  {
   "cell_type": "markdown",
   "metadata": {},
   "source": [
    "1. Along with predicting if a customer responds to an offer, we can predict how much a customer will spend based on each offer. This coincides with how the feature \"spending\" influences the model.\n",
    "2. Working in the advertising industry,  there are many instances where I have to perform customer segmentation. Based on the data we have, if other than the 3 datasets given in this project. If we had access to other apps or content, then we can perform segmentation and create different persona groups. These groups would be based around demographics and/or content each customer is interested in. Simply, segmentation based on products and behavior. This will allow Starbucks to target specific audiences to achieve a higher response rate."
   ]
  }
 ],
 "metadata": {
  "kernelspec": {
   "display_name": "Python 3",
   "language": "python",
   "name": "python3"
  },
  "language_info": {
   "codemirror_mode": {
    "name": "ipython",
    "version": 3
   },
   "file_extension": ".py",
   "mimetype": "text/x-python",
   "name": "python",
   "nbconvert_exporter": "python",
   "pygments_lexer": "ipython3",
   "version": "3.6.3"
  }
 },
 "nbformat": 4,
 "nbformat_minor": 2
}
